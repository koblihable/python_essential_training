{
 "cells": [
  {
   "cell_type": "code",
   "execution_count": 89,
   "id": "24865578-55be-4064-9828-3725e215ee2f",
   "metadata": {},
   "outputs": [],
   "source": [
    "#create custom exception called NonIntArgumentException will be raised by the below handleNonIntArguments method\n",
    "class NonIntArgumentException(Exception):\n",
    "    pass"
   ]
  },
  {
   "cell_type": "code",
   "execution_count": 93,
   "id": "abd5783d-7676-4dc0-819d-085eecdd3d7d",
   "metadata": {
    "scrolled": true
   },
   "outputs": [],
   "source": [
    "def handleNonIntArguments(func):\n",
    "    def wrapper(*args):\n",
    "        try:\n",
    "            return func(*args)\n",
    "        except TypeError:\n",
    "            raise NonIntArgumentException('hooray')\n",
    "    return wrapper"
   ]
  },
  {
   "cell_type": "code",
   "execution_count": 94,
   "id": "cc273647-f15b-4456-b3e1-896e91637341",
   "metadata": {},
   "outputs": [
    {
     "name": "stdout",
     "output_type": "stream",
     "text": [
      "6\n"
     ]
    }
   ],
   "source": [
    "@handleNonIntArguments\n",
    "def addition(a,b,c):\n",
    "    return a + b + c\n",
    "\n",
    "#wrong = addition('a',2,3)\n",
    "print(addition(1,2,3))"
   ]
  },
  {
   "cell_type": "code",
   "execution_count": 73,
   "id": "fefc8282-0408-4a03-a886-ab20010faf53",
   "metadata": {},
   "outputs": [
    {
     "name": "stdout",
     "output_type": "stream",
     "text": [
      "1\n"
     ]
    }
   ],
   "source": [
    "def handleException(func):\n",
    "    def wrapper(*args):\n",
    "        try:\n",
    "            func(*args)\n",
    "        except TypeError:\n",
    "            print('there was a type error')\n",
    "        except ZeroDivisionError:\n",
    "            print('there was a zero division error')\n",
    "        except Exception:\n",
    "            print('there was some sort of error')\n",
    "    return wrapper\n",
    "\n",
    "@handleException\n",
    "def raiseError(n):\n",
    "    if n == 0:\n",
    "        raise Exception()\n",
    "    print(n)\n",
    "\n",
    "raiseError(1)"
   ]
  },
  {
   "cell_type": "code",
   "execution_count": null,
   "id": "0734309b-b39c-4655-b4f4-4df208938530",
   "metadata": {},
   "outputs": [],
   "source": []
  },
  {
   "cell_type": "code",
   "execution_count": null,
   "id": "318fdec8-2bbc-4cee-91f8-dbf90196ffd7",
   "metadata": {},
   "outputs": [],
   "source": []
  }
 ],
 "metadata": {
  "kernelspec": {
   "display_name": "Python 3 (ipykernel)",
   "language": "python",
   "name": "python3"
  },
  "language_info": {
   "codemirror_mode": {
    "name": "ipython",
    "version": 3
   },
   "file_extension": ".py",
   "mimetype": "text/x-python",
   "name": "python",
   "nbconvert_exporter": "python",
   "pygments_lexer": "ipython3",
   "version": "3.10.12"
  }
 },
 "nbformat": 4,
 "nbformat_minor": 5
}
