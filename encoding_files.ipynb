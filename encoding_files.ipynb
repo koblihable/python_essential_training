{
 "cells": [
  {
   "cell_type": "code",
   "execution_count": null,
   "id": "1f7e1911-c60b-4a6f-8bfb-c74c6923cada",
   "metadata": {},
   "outputs": [],
   "source": [
    "import ast"
   ]
  },
  {
   "cell_type": "code",
   "execution_count": 14,
   "id": "160b0258-c008-421e-83fe-1410de23d073",
   "metadata": {},
   "outputs": [
    {
     "name": "stdout",
     "output_type": "stream",
     "text": [
      "[('A', 3), ('B', 3), ('C', 3)]\n"
     ]
    }
   ],
   "source": [
    "#encode string like AAAABBBBCC to a list of tuples like [(A,4), (B,4), (c,2)]\n",
    "def encode_string(string_val):\n",
    "    current_value = string_val[0]\n",
    "    counter = 0\n",
    "    result_list = []\n",
    "    for letter in string_val:\n",
    "        if letter != current_value:\n",
    "            result_list.append((current_value, counter))\n",
    "            counter = 0\n",
    "        current_value = letter\n",
    "        counter += 1    \n",
    "    result_list.append((current_value, counter))\n",
    "    return result_list\n",
    "\n",
    "print(encode_string('AAABBBCCC'))"
   ]
  },
  {
   "cell_type": "code",
   "execution_count": 33,
   "id": "c8233e34-cbb9-448d-a3ed-a61b4326a80c",
   "metadata": {},
   "outputs": [
    {
     "data": {
      "text/plain": [
       "'AAABBBCCC'"
      ]
     },
     "execution_count": 33,
     "metadata": {},
     "output_type": "execute_result"
    }
   ],
   "source": [
    "def decode_string(encoded_string):\n",
    "    my_dict = {item[0]: item[1] for item in encoded_string}\n",
    "    letters_list = []\n",
    "    for letter, number in my_dict.items():\n",
    "        letter_group = (letter * number)\n",
    "        letters_list.append(letter_group)\n",
    "    return ''.join(letters_list)\n",
    "\n",
    "decode_string([('A', 3), ('B', 3), ('C', 3)])"
   ]
  },
  {
   "cell_type": "code",
   "execution_count": 50,
   "id": "fb4cb82f-8cf5-4618-a3ef-a23ab982cebe",
   "metadata": {},
   "outputs": [
    {
     "name": "stdout",
     "output_type": "stream",
     "text": [
      "<class 'str'>\n",
      "<class 'list'>\n",
      "AAAAAAABBBBCCCCCCCCCCCCCCDDDDEEEEEEFGGGHHHHIIIJKKKKKKKKTTTSSSSSSWWWWWNNNNNNPPPPXXXXXXX\n",
      "\n"
     ]
    }
   ],
   "source": [
    "# The filename that will be passed to this function\n",
    "# is 10_04_challenge_art.txt\n",
    "def encode_file(filename, new_filename):\n",
    "    filename = (open(filename, 'r')).read()\n",
    "    with open(new_filename,'w') as new_filename:\n",
    "        new_filename.write(str(encode_string(filename)))\n",
    "\n",
    "def decode_file(filename):\n",
    "    filename = (open(filename,'r')).read()\n",
    "    filename = ast.literal_eval(filename)\n",
    "    print(decode_string(filename))\n",
    "    \n",
    "encode_file('initial_challenge_art.txt', 'test_encode.txt' )\n",
    "decode_file('test_encode.txt')"
   ]
  },
  {
   "cell_type": "code",
   "execution_count": 18,
   "id": "9fc03bd3-f5e6-42b6-9200-b1093777e069",
   "metadata": {},
   "outputs": [],
   "source": [
    "with open('10_04_challenge_art.txt','w') as f:\n",
    "    f.write(str(encode_string('AAABBBCCC'))"
   ]
  },
  {
   "cell_type": "code",
   "execution_count": null,
   "id": "53c72f63-51eb-49a9-8f6b-8cf5259d8225",
   "metadata": {},
   "outputs": [],
   "source": []
  },
  {
   "cell_type": "code",
   "execution_count": 19,
   "id": "40e58a71-bf46-4eca-95fd-7b683bff4b17",
   "metadata": {},
   "outputs": [
    {
     "name": "stdout",
     "output_type": "stream",
     "text": [
      "30\n"
     ]
    }
   ],
   "source": [
    "import os\n",
    "\n",
    "original_filesize = os.path.getsize('10_04_challenge_art.txt')\n",
    "print(original_filesize)"
   ]
  },
  {
   "cell_type": "code",
   "execution_count": 29,
   "id": "a835e795-88b4-4b0f-a7fb-e083b7e580b7",
   "metadata": {},
   "outputs": [
    {
     "name": "stdout",
     "output_type": "stream",
     "text": [
      "<_io.TextIOWrapper name='10_04_challenge_art.txt' mode='r' encoding='UTF-8'>\n"
     ]
    }
   ],
   "source": [
    "f = str(open('10_04_challenge_art.txt','r'))\n",
    "print(f)"
   ]
  },
  {
   "cell_type": "code",
   "execution_count": 48,
   "id": "9ed65c55-7da4-43d3-9276-479491f98daa",
   "metadata": {},
   "outputs": [
    {
     "name": "stdout",
     "output_type": "stream",
     "text": [
      "<class 'list'>\n"
     ]
    }
   ],
   "source": [
    "string = \"[('A', 3), ('B', 3), ('C', 3)]\"\n",
    "import ast\n",
    "\n",
    "string = ast.literal_eval(string)\n",
    "print(type(string))"
   ]
  },
  {
   "cell_type": "code",
   "execution_count": 52,
   "id": "408fea9b-bf59-4f12-b73d-1a2bdfd3b744",
   "metadata": {},
   "outputs": [
    {
     "data": {
      "text/plain": [
       "'AAAAAAABBBBCCCCCCCCCCCCCCDDDDEEEEEEFGGGHHHHIIIJKKKKKKKKTTTSSSSSSWWWWWNNNNNNPPPPXXXXXXX\\n'"
      ]
     },
     "execution_count": 52,
     "metadata": {},
     "output_type": "execute_result"
    }
   ],
   "source": [
    "# The filename that will be passed to this function\n",
    "# is 10_04_challenge_art.txt\n",
    "def encode_file(filename, new_filename):\n",
    "    filename = (open(filename, 'r')).read()\n",
    "    with open(new_filename,'w') as new_filename:\n",
    "        new_filename.write(str(encode_string(filename)))\n",
    "\n",
    "def decode_file(filename):\n",
    "    filename = ast.literal_eval((open(filename,'r')).read())\n",
    "    return (decode_string(filename))\n",
    "    \n",
    "encode_file('initial_challenge_art.txt', 'test_encode.txt' )\n",
    "decode_file('test_encode.txt')"
   ]
  },
  {
   "cell_type": "code",
   "execution_count": null,
   "id": "710877da-0bba-4dc1-a4a7-f2b59c58fd23",
   "metadata": {},
   "outputs": [],
   "source": []
  }
 ],
 "metadata": {
  "kernelspec": {
   "display_name": "Python 3 (ipykernel)",
   "language": "python",
   "name": "python3"
  },
  "language_info": {
   "codemirror_mode": {
    "name": "ipython",
    "version": 3
   },
   "file_extension": ".py",
   "mimetype": "text/x-python",
   "name": "python",
   "nbconvert_exporter": "python",
   "pygments_lexer": "ipython3",
   "version": "3.10.12"
  }
 },
 "nbformat": 4,
 "nbformat_minor": 5
}
