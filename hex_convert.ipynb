{
 "cells": [
  {
   "cell_type": "code",
   "execution_count": 56,
   "id": "e7d1febc-b0da-43b1-a02a-6aa30f78b400",
   "metadata": {},
   "outputs": [],
   "source": [
    "hex_numbers = {'0': 0, '1': 1, '2': 2, '3': 3, '4': 4, '5': 5, '6': 6, '7': 7, '8': 8, '9': 9,\n",
    "    'A': 10, 'B': 11, 'C': 12, 'D': 13, 'E': 14, 'F': 15}"
   ]
  },
  {
   "cell_type": "code",
   "execution_count": 75,
   "id": "168d7cc9-99b1-4a15-9adf-7d76e5150927",
   "metadata": {},
   "outputs": [],
   "source": [
    "def hex_to_dec(hex):\n",
    "    # check if string is max 3 characters, return None if it is longer\n",
    "    if len(hex) > 3:\n",
    "        print('too long')\n",
    "        return None\n",
    "    # check each individual character if it is a part of the hex alphabet.\n",
    "    # multiply 1st by 256, 2nd by 16, 3rd by 1 and add\n",
    "    else:\n",
    "        for item in hex:\n",
    "            if item in hex_numbers:\n",
    "                print(item)\n",
    "                return hex_numbers[item]\n",
    "            else:\n",
    "                return None\n",
    "        #result = int(hex[0], 16) * 256 + int(hex[1], 16) * 16 + int(hex[2])\n",
    "        #return result\n",
    "   "
   ]
  },
  {
   "cell_type": "code",
   "execution_count": 78,
   "id": "9e85e15b-6d3a-4e0b-a330-160a2e84b830",
   "metadata": {},
   "outputs": [
    {
     "name": "stdout",
     "output_type": "stream",
     "text": [
      "A\n",
      "10\n"
     ]
    }
   ],
   "source": [
    "number = 'ABC'\n",
    "print(hex_to_dec(number))"
   ]
  },
  {
   "cell_type": "code",
   "execution_count": 87,
   "id": "b3704c60-096a-440c-9710-db929343d338",
   "metadata": {},
   "outputs": [],
   "source": [
    "def hex_to_dec(hex):\n",
    "    # check if string is max 3 characters, return None if it is longer\n",
    "    if len(hex) > 3:\n",
    "        print('too long')\n",
    "        return None\n",
    "    # check each individual character if it is a part of the hex alphabet.\n",
    "    # multiply 1st by 256, 2nd by 16, 3rd by 1 and add\n",
    "    else:\n",
    "        hexnums = []\n",
    "        for item in hex:\n",
    "            hexnums.append(hex_numbers[item])\n",
    "            print(hexnums)\n",
    "            print(hex_numbers[item])"
   ]
  },
  {
   "cell_type": "code",
   "execution_count": 88,
   "id": "247e19f5-9e8a-44b5-962a-5817ec168bd5",
   "metadata": {},
   "outputs": [
    {
     "name": "stdout",
     "output_type": "stream",
     "text": [
      "[10]\n",
      "10\n",
      "[10, 11]\n",
      "11\n",
      "[10, 11, 12]\n",
      "12\n",
      "None\n"
     ]
    }
   ],
   "source": [
    "number = 'ABC'\n",
    "print(hex_to_dec(number))"
   ]
  },
  {
   "cell_type": "code",
   "execution_count": 115,
   "id": "6f0ee3b3-8059-47f0-981b-4cdafd139172",
   "metadata": {},
   "outputs": [],
   "source": [
    "def hex_to_dec(hex):\n",
    "    # check if string is max 3 characters, return None if it is longer\n",
    "    if len(hex) > 3:\n",
    "        print('too long')\n",
    "        return None\n",
    "    # check each individual character if it is a part of the hex alphabet.\n",
    "    # multiply 1st by 256, 2nd by 16, 3rd by 1 and add\n",
    "    else:\n",
    "        print(hex)\n",
    "        hexnums = []\n",
    "        for item in hex:\n",
    "            print(item)\n",
    "            hexnums.append(item)\n",
    "        print(hexnums)\n",
    "         \n",
    "\n",
    " "
   ]
  },
  {
   "cell_type": "code",
   "execution_count": 116,
   "id": "8a684c6a-57dd-43f3-a11c-20bf30c124e7",
   "metadata": {},
   "outputs": [
    {
     "name": "stdout",
     "output_type": "stream",
     "text": [
      "ABC\n",
      "A\n",
      "B\n",
      "C\n",
      "['A', 'B', 'C']\n",
      "None\n"
     ]
    }
   ],
   "source": [
    "number = 'ABC'\n",
    "print(hex_to_dec(number))"
   ]
  },
  {
   "cell_type": "code",
   "execution_count": 123,
   "id": "8b965880-bf39-4a7d-bc3c-272fda60f590",
   "metadata": {},
   "outputs": [],
   "source": [
    "def hex_to_dec(hex):\n",
    "    # check if string is max 3 characters, return None if it is longer\n",
    "    if len(hex) > 3:\n",
    "        print('too long')\n",
    "        return None\n",
    "    # check each individual character if it is a part of the hex alphabet.\n",
    "    # multiply 1st by 256, 2nd by 16, 3rd by 1 and add\n",
    "    else:\n",
    "        print(hex)\n",
    "        hexnums = []\n",
    "        for item in hex:\n",
    "            print(item)\n",
    "            hexnums.append(item)\n",
    "            print(hex_numbers[item])\n",
    "            hexnums.append(hex_numbers[item])\n",
    "        print(hexnums)\n",
    "        print(hex_numbers)\n",
    "           "
   ]
  },
  {
   "cell_type": "code",
   "execution_count": 124,
   "id": "615254f7-1b40-4c46-a936-1e709be31382",
   "metadata": {},
   "outputs": [
    {
     "name": "stdout",
     "output_type": "stream",
     "text": [
      "ABC\n",
      "A\n",
      "10\n",
      "B\n",
      "11\n",
      "C\n",
      "12\n",
      "['A', 10, 'B', 11, 'C', 12]\n",
      "{'0': 0, '1': 1, '2': 2, '3': 3, '4': 4, '5': 5, '6': 6, '7': 7, '8': 8, '9': 9, 'A': 10, 'B': 11, 'C': 12, 'D': 13, 'E': 14, 'F': 15}\n",
      "None\n"
     ]
    }
   ],
   "source": [
    "number = 'ABC'\n",
    "print(hex_to_dec(number))"
   ]
  },
  {
   "cell_type": "code",
   "execution_count": 127,
   "id": "989a8ac0-ceca-4b09-83b2-4c0c614117fe",
   "metadata": {},
   "outputs": [],
   "source": [
    "def hex_to_dec(hex):\n",
    "    # check if string is max 3 characters, return None if it is longer\n",
    "    if len(hex) > 3:\n",
    "        print('too long')\n",
    "        return None\n",
    "    # check each individual character if it is a part of the hex alphabet.\n",
    "    # multiply 1st by 256, 2nd by 16, 3rd by 1 and add\n",
    "    else:\n",
    "        hexnums = []\n",
    "        for item in hex:\n",
    "            hexnums.append(hex_numbers[item])\n",
    "        print(hexnums)\n",
    "        "
   ]
  },
  {
   "cell_type": "code",
   "execution_count": 128,
   "id": "8478cd2f-b1e8-4a05-a936-09fda0c65f19",
   "metadata": {},
   "outputs": [
    {
     "name": "stdout",
     "output_type": "stream",
     "text": [
      "[10, 11, 12]\n",
      "None\n"
     ]
    }
   ],
   "source": [
    "number = 'ABC'\n",
    "print(hex_to_dec(number))"
   ]
  },
  {
   "cell_type": "code",
   "execution_count": 132,
   "id": "50a6c9f4-2043-4cd3-adc3-02d9b77484da",
   "metadata": {},
   "outputs": [],
   "source": [
    "def hex_to_dec(hex):\n",
    "    # check if string is max 3 characters, return None if it is longer\n",
    "    if len(hex) > 3:\n",
    "        print('too long')\n",
    "        return None\n",
    "    # check each individual character if it is a part of the hex alphabet.\n",
    "    # multiply 1st by 256, 2nd by 16, 3rd by 1 and add\n",
    "    else:\n",
    "        hexnums = []\n",
    "        for item in hex:\n",
    "            hexnums.append(hex_numbers[item])\n",
    "    result = hexnums[0] * 256 + hexnums[1] *16 + hexnums[2]\n",
    "    return result"
   ]
  },
  {
   "cell_type": "code",
   "execution_count": 133,
   "id": "79c5b01a-c2f5-4da7-9ed0-58269700066f",
   "metadata": {},
   "outputs": [
    {
     "name": "stdout",
     "output_type": "stream",
     "text": [
      "2748\n"
     ]
    }
   ],
   "source": [
    "number = 'ABC'\n",
    "print(hex_to_dec(number))"
   ]
  },
  {
   "cell_type": "code",
   "execution_count": 136,
   "id": "d18adb79-a101-4b1c-a384-7902621011c6",
   "metadata": {},
   "outputs": [],
   "source": [
    "def hex_to_dec(hex):\n",
    "    # check if string is max 3 characters, return None if it is longer\n",
    "    if len(hex) > 3:\n",
    "        print('too long')\n",
    "        return None\n",
    "    # check each individual character if it is a part of the hex alphabet.\n",
    "    # multiply 1st by 256, 2nd by 16, 3rd by 1 and add\n",
    "    else:\n",
    "        hexnums = []\n",
    "        for item in hex:\n",
    "            hexnums.append(hex_numbers[item])\n",
    "    if len(hexnums) == 3:\n",
    "        result = hexnums[0] * 256 + hexnums[1] *16 + hexnums[2]\n",
    "    elif len(hexnums) == 2: \n",
    "        result = hexnums[0] *16 + hexnums[1]\n",
    "    else: \n",
    "        result = hexnums[0]\n",
    "    return result"
   ]
  },
  {
   "cell_type": "code",
   "execution_count": 137,
   "id": "c368d365-eae7-46f0-9804-7946e6d2f298",
   "metadata": {},
   "outputs": [
    {
     "name": "stdout",
     "output_type": "stream",
     "text": [
      "2748\n"
     ]
    }
   ],
   "source": [
    "number = 'ABC'\n",
    "print(hex_to_dec(number))"
   ]
  },
  {
   "cell_type": "code",
   "execution_count": 138,
   "id": "6d98b26d-0133-4b53-a21d-b27530b1113a",
   "metadata": {},
   "outputs": [
    {
     "name": "stdout",
     "output_type": "stream",
     "text": [
      "171\n"
     ]
    }
   ],
   "source": [
    "number = 'AB'\n",
    "print(hex_to_dec(number))"
   ]
  },
  {
   "cell_type": "code",
   "execution_count": 139,
   "id": "afe0a4ea-27df-47bb-92eb-bbb22800df8b",
   "metadata": {},
   "outputs": [
    {
     "name": "stdout",
     "output_type": "stream",
     "text": [
      "10\n"
     ]
    }
   ],
   "source": [
    "number = 'A'\n",
    "print(hex_to_dec(number))"
   ]
  },
  {
   "cell_type": "code",
   "execution_count": null,
   "id": "d1c45846-38d0-45d4-9659-a90ff8c8d996",
   "metadata": {},
   "outputs": [],
   "source": []
  }
 ],
 "metadata": {
  "kernelspec": {
   "display_name": "Python 3 (ipykernel)",
   "language": "python",
   "name": "python3"
  },
  "language_info": {
   "codemirror_mode": {
    "name": "ipython",
    "version": 3
   },
   "file_extension": ".py",
   "mimetype": "text/x-python",
   "name": "python",
   "nbconvert_exporter": "python",
   "pygments_lexer": "ipython3",
   "version": "3.10.12"
  }
 },
 "nbformat": 4,
 "nbformat_minor": 5
}
