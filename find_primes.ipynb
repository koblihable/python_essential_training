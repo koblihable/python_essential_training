{
 "cells": [
  {
   "cell_type": "markdown",
   "id": "6ef47277-2df6-4611-bcda-2e2202684f4e",
   "metadata": {},
   "source": [
    "https://en.wikipedia.org/wiki/Sieve_of_Eratosthenes\n",
    "\n",
    "To find all the prime numbers less than or equal to a given integer n by Eratosthenes' method:\n",
    "\n",
    "Create a list of consecutive integers from 2 through n: (2, 3, 4, ..., n).\n",
    "Initially, let p equal 2, the smallest prime number.\n",
    "Enumerate the multiples of p by counting in increments of p from 2p to n, and mark them in the list (these will be 2p, 3p, 4p, ...; the p itself should not be marked).\n",
    "Find the smallest number in the list greater than p that is not marked. If there was no such number, stop. Otherwise, let p now equal this new number (which is the next prime), and repeat from step 3.\n",
    "When the algorithm terminates, the numbers remaining not marked in the list are all the primes below n\n",
    "\n",
    "As a refinement, it is sufficient to mark the numbers in step 3 starting from p2, as all the smaller multiples of p will have already been marked at that point. This means that the algorithm is allowed to terminate in step 4 when p2 is greater than n."
   ]
  },
  {
   "cell_type": "code",
   "execution_count": null,
   "id": "ea3e1c1b-90d9-4db1-bda8-70d8d7d9df1b",
   "metadata": {},
   "outputs": [],
   "source": [
    "for number in range(2,100):\n",
    "    for factor in range(2, int(number ** 0.5) + 1):\n",
    "        if number % factor == 0:\n",
    "            break\n",
    "    else:\n",
    "        print(f'{number} is prime!')"
   ]
  },
  {
   "cell_type": "code",
   "execution_count": 5,
   "id": "43ff1da2-a636-493b-8c58-099b65a21f9c",
   "metadata": {},
   "outputs": [],
   "source": [
    "def find_primes(num):\n",
    "    primes = [2]\n",
    "    # lowest prime is 2\n",
    "    for n in range(2, num):\n",
    "        for factor in primes:\n",
    "            if n % factor == 0:\n",
    "                break\n",
    "        else:\n",
    "            primes.append(n)\n",
    "    print(primes)\n"
   ]
  },
  {
   "cell_type": "code",
   "execution_count": 6,
   "id": "e5f76b71-cbcb-4d49-98cc-6ca89796c7ce",
   "metadata": {},
   "outputs": [
    {
     "name": "stdout",
     "output_type": "stream",
     "text": [
      "[2, 3, 5, 7, 11, 13, 17, 19, 23, 29, 31, 37, 41, 43, 47, 53, 59, 61, 67, 71, 73, 79, 83, 89, 97]\n"
     ]
    }
   ],
   "source": [
    "find_primes(100)"
   ]
  },
  {
   "cell_type": "code",
   "execution_count": null,
   "id": "b01358e8-41fd-4621-a159-1659f6e22874",
   "metadata": {},
   "outputs": [],
   "source": []
  }
 ],
 "metadata": {
  "kernelspec": {
   "display_name": "Python 3 (ipykernel)",
   "language": "python",
   "name": "python3"
  },
  "language_info": {
   "codemirror_mode": {
    "name": "ipython",
    "version": 3
   },
   "file_extension": ".py",
   "mimetype": "text/x-python",
   "name": "python",
   "nbconvert_exporter": "python",
   "pygments_lexer": "ipython3",
   "version": "3.10.12"
  }
 },
 "nbformat": 4,
 "nbformat_minor": 5
}
