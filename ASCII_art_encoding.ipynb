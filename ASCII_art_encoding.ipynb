{
 "cells": [
  {
   "cell_type": "code",
   "execution_count": 21,
   "id": "0207fba6-ee4a-418d-9cfd-23687191abdd",
   "metadata": {},
   "outputs": [],
   "source": [
    "#encode string like AAAABBBBCC to a list of tuples like [(A,4), (B,4), (c,2)]\n",
    "def encode_string(string_val):\n",
    "    current_value = string_val[0]\n",
    "    counter = 0\n",
    "    result_list = []\n",
    "    for letter in string_val:\n",
    "        if letter == current_value:\n",
    "            result_list.append(letter)\n",
    "            counter += 1\n",
    "        else:\n",
    "            current_value = string_val[counter+1]\n",
    "            print('current_value')\n",
    "            print(current_value)\n",
    "    print('result_list')        \n",
    "    print(result_list)\n",
    "    print('counter')\n",
    "    print(counter)"
   ]
  },
  {
   "cell_type": "code",
   "execution_count": 22,
   "id": "713bd939-f6b5-4776-ada8-4e5f6ca98bff",
   "metadata": {},
   "outputs": [
    {
     "name": "stdout",
     "output_type": "stream",
     "text": [
      "current_value\n",
      "B\n",
      "current_value\n",
      "C\n",
      "result_list\n",
      "['A', 'A', 'A', 'B', 'B', 'C', 'C']\n",
      "counter\n",
      "7\n"
     ]
    }
   ],
   "source": [
    "encode_string('AAABBBCCC')"
   ]
  },
  {
   "cell_type": "code",
   "execution_count": 40,
   "id": "2f820fcc-d795-4638-818a-5af3533b4175",
   "metadata": {},
   "outputs": [],
   "source": [
    "#encode string like AAAABBBBCC to a list of tuples like [(A,4), (B,4), (c,2)]\n",
    "def encode_string(string_val):\n",
    "    current_value = string_val[0]\n",
    "    counter = 0\n",
    "    result_list = []\n",
    "    for letter in string_val:\n",
    "        if letter == current_value:\n",
    "            counter += 1\n",
    "            letter_count = (current_value, counter)\n",
    "    result_list.append(letter_count)\n",
    "    print(result_list)\n",
    "    print(letter_count)"
   ]
  },
  {
   "cell_type": "code",
   "execution_count": 41,
   "id": "5d2f4337-faf8-4f26-a982-06d753ba2d74",
   "metadata": {},
   "outputs": [
    {
     "name": "stdout",
     "output_type": "stream",
     "text": [
      "[('A', 3)]\n",
      "('A', 3)\n"
     ]
    }
   ],
   "source": [
    "encode_string('AAABBBCCC')"
   ]
  },
  {
   "cell_type": "code",
   "execution_count": 73,
   "id": "29d6709e-1087-46b4-8254-b425f66cba55",
   "metadata": {},
   "outputs": [],
   "source": [
    "#encode string like AAAABBBBCC to a list of tuples like [(A,4), (B,4), (c,2)]\n",
    "def encode_string(string_val):\n",
    "    current_value = string_val[0]\n",
    "    counter = 0\n",
    "    result_list = []\n",
    "    for letter in string_val:\n",
    "        if letter == current_value:\n",
    "            # if the letter is the same we want to increment the count\n",
    "            counter += 1\n",
    "        else:\n",
    "            # if the letter is different we want to create the tuple and reset the count and current value\n",
    "            letter_count = (current_value, counter)\n",
    "            result_list.append(letter_count)\n",
    "            current_value = letter\n",
    "            counter = 1\n",
    "    letter_count = (current_value, counter)\n",
    "    result_list.append(letter_count)    \n",
    "    return result_list"
   ]
  },
  {
   "cell_type": "code",
   "execution_count": 74,
   "id": "7bc0d6d8-bd24-4af9-ad76-f1efaeb96f7d",
   "metadata": {},
   "outputs": [
    {
     "data": {
      "text/plain": [
       "[('A', 3), ('B', 3), ('C', 3)]"
      ]
     },
     "execution_count": 74,
     "metadata": {},
     "output_type": "execute_result"
    }
   ],
   "source": [
    "encode_string('AAABBBCCC')"
   ]
  },
  {
   "cell_type": "code",
   "execution_count": 85,
   "id": "85430d7a-cd69-41b3-aec5-eb7b17e73ecb",
   "metadata": {},
   "outputs": [],
   "source": [
    "def decode_string(encoded_string):\n",
    "    my_dict = {item[0]: item[1] for item in encoded_string}\n",
    "    for letter, number in my_dict.items():\n",
    "    print(letter * number)"
   ]
  },
  {
   "cell_type": "code",
   "execution_count": 86,
   "id": "cc1b4885-5851-470f-9b1f-29aca2cdae25",
   "metadata": {},
   "outputs": [
    {
     "name": "stdout",
     "output_type": "stream",
     "text": [
      "AAA\n",
      "BBB\n",
      "CCC\n",
      "['A', 'B', 'C']\n",
      "[3, 3, 3]\n"
     ]
    }
   ],
   "source": [
    "my_list = [('A', 3), ('B', 3), ('C', 3)]\n",
    "decode_string(my_list)"
   ]
  },
  {
   "cell_type": "code",
   "execution_count": 103,
   "id": "6fdf3d14-fcbc-451a-87c3-b709dce0c5a6",
   "metadata": {},
   "outputs": [],
   "source": [
    "def decode_string(encoded_string):\n",
    "    my_dict = {item[0]: item[1] for item in encoded_string}\n",
    "    letters_list = []\n",
    "    for letter, number in my_dict.items():\n",
    "        letter_group = (letter * number)\n",
    "        letters_list.append(letter_group)\n",
    "    decoded_string = ''.join(letters_list)\n",
    "    return decoded_string    "
   ]
  },
  {
   "cell_type": "code",
   "execution_count": 104,
   "id": "d9c9d599-a3e1-4540-ad7d-e340bac7a5c8",
   "metadata": {},
   "outputs": [
    {
     "data": {
      "text/plain": [
       "'AAABBBCCC'"
      ]
     },
     "execution_count": 104,
     "metadata": {},
     "output_type": "execute_result"
    }
   ],
   "source": [
    "my_list = [('A', 3), ('B', 3), ('C', 3)]\n",
    "decode_string(my_list)"
   ]
  },
  {
   "cell_type": "code",
   "execution_count": 105,
   "id": "84d6a8b2-b637-4664-8883-3e697d881d45",
   "metadata": {},
   "outputs": [],
   "source": [
    "def decode_string(encoded_string):\n",
    "    my_dict = {item[0]: item[1] for item in encoded_string}\n",
    "    letters_list = []\n",
    "    for letter, number in my_dict.items():\n",
    "        letter_group = (letter * number)\n",
    "        letters_list.append(letter_group)\n",
    "    return ''.join(letters_list)"
   ]
  },
  {
   "cell_type": "code",
   "execution_count": 106,
   "id": "ca4763c5-1734-44c2-b859-7105c12462da",
   "metadata": {},
   "outputs": [
    {
     "data": {
      "text/plain": [
       "'AAABBBCCC'"
      ]
     },
     "execution_count": 106,
     "metadata": {},
     "output_type": "execute_result"
    }
   ],
   "source": [
    "my_list = [('A', 3), ('B', 3), ('C', 3)]\n",
    "decode_string(my_list)"
   ]
  },
  {
   "cell_type": "code",
   "execution_count": 117,
   "id": "0d3abbe4-bbdb-47e3-8d03-6536935984cb",
   "metadata": {},
   "outputs": [],
   "source": [
    "#encode string like AAAABBBBCC to a list of tuples like [(A,4), (B,4), (c,2)]\n",
    "def encode_string(string_val):\n",
    "    current_value = string_val[0]\n",
    "    counter = 0\n",
    "    result_list = []\n",
    "    for letter in string_val:\n",
    "        if letter != current_value:\n",
    "            result_list.append((current_value, counter))\n",
    "            counter = 0\n",
    "        current_value = letter\n",
    "        counter += 1    \n",
    "    result_list.append((current_value, counter))\n",
    "    return result_list"
   ]
  },
  {
   "cell_type": "code",
   "execution_count": 118,
   "id": "c23229f5-aff8-483d-9b28-21e059055ec6",
   "metadata": {},
   "outputs": [
    {
     "data": {
      "text/plain": [
       "[('A', 3), ('B', 3), ('C', 3)]"
      ]
     },
     "execution_count": 118,
     "metadata": {},
     "output_type": "execute_result"
    }
   ],
   "source": [
    "encode_string('AAABBBCCC')"
   ]
  },
  {
   "cell_type": "code",
   "execution_count": null,
   "id": "55e65c2e-3b06-4574-8379-9f4058b6adb2",
   "metadata": {},
   "outputs": [],
   "source": []
  }
 ],
 "metadata": {
  "kernelspec": {
   "display_name": "Python 3 (ipykernel)",
   "language": "python",
   "name": "python3"
  },
  "language_info": {
   "codemirror_mode": {
    "name": "ipython",
    "version": 3
   },
   "file_extension": ".py",
   "mimetype": "text/x-python",
   "name": "python",
   "nbconvert_exporter": "python",
   "pygments_lexer": "ipython3",
   "version": "3.10.12"
  }
 },
 "nbformat": 4,
 "nbformat_minor": 5
}
