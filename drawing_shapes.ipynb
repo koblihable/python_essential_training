{
 "cells": [
  {
   "cell_type": "code",
   "execution_count": 26,
   "id": "d70e63ca-5f3e-4381-89a3-42c32e41d274",
   "metadata": {},
   "outputs": [],
   "source": [
    "class Shape:\n",
    "\twidth = 5\n",
    "\theight = 5\n",
    "\tprintChar = '#'\n",
    "\n",
    "\tdef printRow(self, i):\n",
    "\t\traise NotImplementedError(\"Will be implemented by children extending this class\")\n",
    "\n",
    "\tdef print(self):\n",
    "\t\tfor i in range(self.height):\n",
    "\t\t\tself.printRow(i)\n",
    "\n",
    "\n",
    "class Square(Shape):\n",
    "\tdef printRow(self, i):\n",
    "\t\tprint(self.printChar * self.width)\n",
    "\n",
    "class Triangle(Shape):\n",
    "    #I would like to iterate over a give number of rows and then increase the number of characters from 1 by the incremen of 1\n",
    "    #the given number is 5\n",
    "\tdef printRow(self, i):\n",
    "            row = self.printChar\n",
    "            for i in range(self.height):\n",
    "                row = row + self.printChar\n",
    "                print(row)\n",
    "\n",
    "triangle = Triangle()\n",
    "triangle.print()"
   ]
  },
  {
   "cell_type": "code",
   "execution_count": 27,
   "id": "7cc9a636-10d9-45f3-98ff-2ba8c960f40e",
   "metadata": {},
   "outputs": [
    {
     "name": "stdout",
     "output_type": "stream",
     "text": [
      "##\n",
      "###\n",
      "####\n",
      "#####\n",
      "######\n",
      "##\n",
      "###\n",
      "####\n",
      "#####\n",
      "######\n",
      "##\n",
      "###\n",
      "####\n",
      "#####\n",
      "######\n",
      "##\n",
      "###\n",
      "####\n",
      "#####\n",
      "######\n",
      "##\n",
      "###\n",
      "####\n",
      "#####\n",
      "######\n"
     ]
    }
   ],
   "source": [
    "triangle = Triangle()\n",
    "triangle.print()"
   ]
  },
  {
   "cell_type": "code",
   "execution_count": 12,
   "id": "6c9d9e92-610c-4e37-8fb9-de7bf7e020a7",
   "metadata": {},
   "outputs": [
    {
     "name": "stdout",
     "output_type": "stream",
     "text": [
      "#####\n",
      "#####\n",
      "#####\n",
      "#####\n",
      "#####\n"
     ]
    }
   ],
   "source": [
    "square = Square()\n",
    "square.print()"
   ]
  },
  {
   "cell_type": "code",
   "execution_count": 66,
   "id": "1d03f457-6da6-40c2-abcd-c5691530e5f2",
   "metadata": {},
   "outputs": [
    {
     "name": "stdout",
     "output_type": "stream",
     "text": [
      "#\n",
      "##\n",
      "###\n",
      "####\n",
      "#####\n",
      "######\n"
     ]
    }
   ],
   "source": [
    "class Shape:\n",
    "\twidth = 5\n",
    "\theight = 5\n",
    "\tprintChar = '#'\n",
    "\n",
    "\tdef printRow(self, i):\n",
    "\t\traise NotImplementedError(\"Will be implemented by children extending this class\")\n",
    "\n",
    "\tdef print(self):\n",
    "\t\tfor i in range(self.height):\n",
    "\t\t\tself.printRow(i)\n",
    "\n",
    "class Square(Shape):\n",
    "\tdef printRow(self, i):\n",
    "\t\tprint(self.printChar * self.width)\n",
    "\n",
    "class Triangle(Shape):\n",
    "    #I would like to iterate over a give number of rows and then increase the number of characters from 1 by the incremen of 1\n",
    "    #the given number is 5\n",
    "    def printRow(self, i):\n",
    "        #print(i)\n",
    "        row = self.printChar\n",
    "        print(row)\n",
    "        for i in range(self.height):\n",
    "            row = row + self.printChar\n",
    "            print(row)\n",
    "\n",
    "    def print(self):\n",
    "        self.printRow(self.height)\n",
    "\n",
    "triangle = Triangle()\n",
    "triangle.print()\n",
    "#square = Square()\n",
    "#square.print()"
   ]
  },
  {
   "cell_type": "code",
   "execution_count": 69,
   "id": "64c1992a-d21f-4054-8608-3055b185328f",
   "metadata": {},
   "outputs": [
    {
     "name": "stdout",
     "output_type": "stream",
     "text": [
      "#\n",
      "##\n",
      "###\n",
      "####\n",
      "#####\n"
     ]
    }
   ],
   "source": [
    "class Shape:\n",
    "\twidth = 5\n",
    "\theight = 5\n",
    "\tprintChar = '#'\n",
    "\n",
    "\tdef printRow(self, i):\n",
    "\t\traise NotImplementedError(\"Will be implemented by children extending this class\")\n",
    "\n",
    "\tdef print(self):\n",
    "\t\tfor i in range(self.height):\n",
    "\t\t\tself.printRow(i)\n",
    "\n",
    "class Square(Shape):\n",
    "\tdef printRow(self, i):\n",
    "\t\tprint(self.printChar * self.width)\n",
    "\n",
    "class Triangle(Shape):\n",
    "    #I would like to iterate over a give number of rows and then increase the number of characters from 1 by the incremen of 1\n",
    "    #the given number is 5\n",
    "    def printRow(self, i):\n",
    "        print(self.printChar * (i + 1))\n",
    "\n",
    "triangle = Triangle()\n",
    "triangle.print()\n"
   ]
  },
  {
   "cell_type": "code",
   "execution_count": null,
   "id": "c4decba8-8581-4eb0-bfe9-0db8a4995613",
   "metadata": {},
   "outputs": [],
   "source": []
  }
 ],
 "metadata": {
  "kernelspec": {
   "display_name": "Python 3 (ipykernel)",
   "language": "python",
   "name": "python3"
  },
  "language_info": {
   "codemirror_mode": {
    "name": "ipython",
    "version": 3
   },
   "file_extension": ".py",
   "mimetype": "text/x-python",
   "name": "python",
   "nbconvert_exporter": "python",
   "pygments_lexer": "ipython3",
   "version": "3.10.12"
  }
 },
 "nbformat": 4,
 "nbformat_minor": 5
}
