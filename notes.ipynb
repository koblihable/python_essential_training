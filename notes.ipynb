{
 "cells": [
  {
   "cell_type": "markdown",
   "id": "17173b66-7ad6-4511-946c-d2b67e72dc33",
   "metadata": {},
   "source": [
    "# data structures"
   ]
  },
  {
   "cell_type": "code",
   "execution_count": 4,
   "id": "88abeb50-6cee-4219-b217-d6ec7f6f46dd",
   "metadata": {},
   "outputs": [],
   "source": [
    "my_string = 'My name is Lenka. I love dogs.'"
   ]
  },
  {
   "cell_type": "code",
   "execution_count": 5,
   "id": "0145c82b-bfcd-46c6-b2d2-fd38a5b4e269",
   "metadata": {},
   "outputs": [
    {
     "name": "stdout",
     "output_type": "stream",
     "text": [
      "['My', 'name', 'is', 'Lenka.', 'I', 'love', 'dogs.']\n"
     ]
    }
   ],
   "source": [
    "#split() by default on space\n",
    "split_string = my_string.split()\n",
    "print(split_string)"
   ]
  },
  {
   "cell_type": "code",
   "execution_count": 6,
   "id": "f53dda5a-fc7e-4602-a1a2-7b762ed8ada8",
   "metadata": {},
   "outputs": [],
   "source": [
    "def normalize_words(word):\n",
    "    return word.replace(',', '').lower()"
   ]
  },
  {
   "cell_type": "code",
   "execution_count": 7,
   "id": "2b65f1d1-89fb-44f8-85d7-d122d292983d",
   "metadata": {},
   "outputs": [
    {
     "name": "stdout",
     "output_type": "stream",
     "text": [
      "['my', 'name', 'is', 'lenka.', 'i', 'love', 'dogs.']\n"
     ]
    }
   ],
   "source": [
    "normalized_string = [normalize_words(word) for word in split_string]\n",
    "print(normalized_string)"
   ]
  },
  {
   "cell_type": "code",
   "execution_count": 8,
   "id": "d5c08ecd-3260-4510-b9af-36bdc68eb378",
   "metadata": {},
   "outputs": [
    {
     "name": "stdout",
     "output_type": "stream",
     "text": [
      "{'a': 'aardwark', 'b': 'honey', 'c': 'sea'}\n"
     ]
    }
   ],
   "source": [
    "tuples_list = [('a', 'aardwark'), ('b', 'honey'), ('c', 'sea')]\n",
    "my_dict = {item[0]: item[1] for item in tuples_list}\n",
    "print(my_dict)"
   ]
  },
  {
   "cell_type": "code",
   "execution_count": 9,
   "id": "9137ca83-7801-4739-b259-a009c1087991",
   "metadata": {},
   "outputs": [
    {
     "name": "stdout",
     "output_type": "stream",
     "text": [
      "{'a': 'aardwark', 'b': 'honey', 'c': 'sea'}\n"
     ]
    }
   ],
   "source": [
    "my_elegant_dict = {key: value for key, value in tuples_list}\n",
    "print(my_elegant_dict)"
   ]
  },
  {
   "cell_type": "code",
   "execution_count": 10,
   "id": "4e3d5006-ce45-4eb5-8049-2fd2101e7593",
   "metadata": {},
   "outputs": [
    {
     "data": {
      "text/plain": [
       "dict_values(['aardwark', 'honey', 'sea'])"
      ]
     },
     "execution_count": 10,
     "metadata": {},
     "output_type": "execute_result"
    }
   ],
   "source": [
    "my_dict.values()"
   ]
  },
  {
   "cell_type": "code",
   "execution_count": 11,
   "id": "14fec42c-eb9f-4dbe-914a-560ec303edf3",
   "metadata": {},
   "outputs": [
    {
     "data": {
      "text/plain": [
       "dict_keys(['a', 'b', 'c'])"
      ]
     },
     "execution_count": 11,
     "metadata": {},
     "output_type": "execute_result"
    }
   ],
   "source": [
    "my_dict.keys()"
   ]
  },
  {
   "cell_type": "code",
   "execution_count": 12,
   "id": "f07f1e0a-9848-4d9e-8f57-57d93278c04f",
   "metadata": {},
   "outputs": [
    {
     "data": {
      "text/plain": [
       "dict_items([('a', 'aardwark'), ('b', 'honey'), ('c', 'sea')])"
      ]
     },
     "execution_count": 12,
     "metadata": {},
     "output_type": "execute_result"
    }
   ],
   "source": [
    "my_dict.items()"
   ]
  },
  {
   "cell_type": "code",
   "execution_count": 13,
   "id": "aa332c8b-ffcf-45ec-9e19-ba7354a21839",
   "metadata": {},
   "outputs": [
    {
     "data": {
      "text/plain": [
       "[('a', 'aardwark'), ('b', 'honey'), ('c', 'sea')]"
      ]
     },
     "execution_count": 13,
     "metadata": {},
     "output_type": "execute_result"
    }
   ],
   "source": [
    "list(my_dict.items())"
   ]
  },
  {
   "cell_type": "code",
   "execution_count": 14,
   "id": "aaf73f75-83e9-4b19-b94f-573fa753259c",
   "metadata": {},
   "outputs": [
    {
     "data": {
      "text/plain": [
       "[{'letter': 'a', 'name': 'aardwark'},\n",
       " {'letter': 'b', 'name': 'honey'},\n",
       " {'letter': 'c', 'name': 'sea'}]"
      ]
     },
     "execution_count": 14,
     "metadata": {},
     "output_type": "execute_result"
    }
   ],
   "source": [
    "[{'letter': key, 'name':value} for key, value in my_dict.items()]"
   ]
  },
  {
   "cell_type": "code",
   "execution_count": 15,
   "id": "d8e45e7f-586d-4c7a-af45-cda8bf3c9597",
   "metadata": {},
   "outputs": [
    {
     "name": "stdout",
     "output_type": "stream",
     "text": [
      "A\n",
      "A\n",
      "A\n",
      "B\n",
      "B\n",
      "B\n",
      "C\n",
      "C\n",
      "C\n"
     ]
    }
   ],
   "source": [
    "string = 'AAABBBCCC'\n",
    "for item in string:\n",
    "    print(item)"
   ]
  },
  {
   "cell_type": "code",
   "execution_count": 17,
   "id": "f30587bc-aba1-4cd9-ba34-6d571f069276",
   "metadata": {},
   "outputs": [
    {
     "data": {
      "text/plain": [
       "{'a': 'aardwark', 'b': 'honey', 'c': 'sea'}"
      ]
     },
     "execution_count": 17,
     "metadata": {},
     "output_type": "execute_result"
    }
   ],
   "source": [
    "my_dict"
   ]
  },
  {
   "cell_type": "code",
   "execution_count": 20,
   "id": "62e55d63-5725-471c-af20-e76a28bd4fdd",
   "metadata": {},
   "outputs": [
    {
     "name": "stdout",
     "output_type": "stream",
     "text": [
      "a aardwark\n",
      "b honey\n",
      "c sea\n"
     ]
    }
   ],
   "source": [
    "for key, value in my_dict.items():\n",
    "    print(key, value)"
   ]
  },
  {
   "cell_type": "code",
   "execution_count": 21,
   "id": "9b3f4085-e8b3-440c-b77c-890145ffee2b",
   "metadata": {},
   "outputs": [
    {
     "data": {
      "text/plain": [
       "datetime.datetime(2024, 8, 7, 19, 5, 27, 920767)"
      ]
     },
     "execution_count": 21,
     "metadata": {},
     "output_type": "execute_result"
    }
   ],
   "source": [
    "from datetime import datetime\n",
    "datetime.now()"
   ]
  },
  {
   "cell_type": "code",
   "execution_count": 41,
   "id": "d1143728-8f1a-4745-b92c-6e2ea086f1b2",
   "metadata": {},
   "outputs": [
    {
     "name": "stdout",
     "output_type": "stream",
     "text": [
      "1\n",
      "3\n"
     ]
    }
   ],
   "source": [
    "print(datetime.now().second)\n",
    "print(datetime.now().second +2)\n"
   ]
  },
  {
   "cell_type": "code",
   "execution_count": 42,
   "id": "83a49931-fb32-4b6b-a4d2-598e793b20a1",
   "metadata": {},
   "outputs": [
    {
     "data": {
      "text/plain": [
       "[1, 'Monty', 'Python', 'Monty', 5, 'Monty Python', 7, 'Monty', 'Python']"
      ]
     },
     "execution_count": 42,
     "metadata": {},
     "output_type": "execute_result"
    }
   ],
   "source": [
    "['Monty Python' if n % 6 == 0 else 'Python' if n % 3 == 0 else 'Monty' if n % 2 == 0 else n for n in range(1, 10)]"
   ]
  },
  {
   "cell_type": "code",
   "execution_count": 44,
   "id": "d76324fc-a245-4098-82b2-2f103c5a9a3c",
   "metadata": {},
   "outputs": [],
   "source": [
    "def perform_operation(n1, n2, op):\n",
    "    if op == 'sum':\n",
    "        return n1 + n2\n",
    "    if op == 'multiply':\n",
    "        return n1 * n2"
   ]
  },
  {
   "cell_type": "code",
   "execution_count": 45,
   "id": "ef901b2d-b454-4315-9099-4bb61dc00361",
   "metadata": {},
   "outputs": [
    {
     "data": {
      "text/plain": [
       "5"
      ]
     },
     "execution_count": 45,
     "metadata": {},
     "output_type": "execute_result"
    }
   ],
   "source": [
    "perform_operation(2,3,'sum')"
   ]
  },
  {
   "cell_type": "code",
   "execution_count": 46,
   "id": "198210a7-1fcd-45e6-aec7-d75079419ae3",
   "metadata": {},
   "outputs": [],
   "source": [
    "#named parametres = kwargs\n",
    "def perform_operation(n1, n2, op='sum'):\n",
    "    if op == 'sum':\n",
    "        return n1 + n2\n",
    "    if op == 'multiply':\n",
    "        return n1 * n2"
   ]
  },
  {
   "cell_type": "code",
   "execution_count": 47,
   "id": "0c0df98a-68c6-4df6-a613-41ed2ab25c13",
   "metadata": {},
   "outputs": [
    {
     "data": {
      "text/plain": [
       "6"
      ]
     },
     "execution_count": 47,
     "metadata": {},
     "output_type": "execute_result"
    }
   ],
   "source": [
    "perform_operation(2,3,op='multiply')"
   ]
  },
  {
   "cell_type": "code",
   "execution_count": 50,
   "id": "fd0d54c6-48f0-45b3-a0b2-985c95ec98d0",
   "metadata": {},
   "outputs": [
    {
     "name": "stdout",
     "output_type": "stream",
     "text": [
      "(1, 2, 3)\n"
     ]
    }
   ],
   "source": [
    "#positional arguments\n",
    "def operation(*args):\n",
    "    print(args)\n",
    "\n",
    "operation(1,2,3)"
   ]
  },
  {
   "cell_type": "code",
   "execution_count": 51,
   "id": "b0e1a5d9-391f-4d77-af39-b98a2a7f484c",
   "metadata": {},
   "outputs": [
    {
     "name": "stdout",
     "output_type": "stream",
     "text": [
      "(1, 2, 3) {'message': 'hello'}\n"
     ]
    }
   ],
   "source": [
    "#keyword arguments\n",
    "def operation(*args, **kwargs):\n",
    "    print(args, kwargs)\n",
    "\n",
    "operation(1,2,3, message='hello')"
   ]
  },
  {
   "cell_type": "code",
   "execution_count": 52,
   "id": "07044d94-2c29-435c-9f46-650ded005061",
   "metadata": {},
   "outputs": [],
   "source": [
    "import math"
   ]
  },
  {
   "cell_type": "code",
   "execution_count": 54,
   "id": "6bb45d58-1bbf-47dc-bda7-7ec88d44c03e",
   "metadata": {},
   "outputs": [
    {
     "data": {
      "text/plain": [
       "5"
      ]
     },
     "execution_count": 54,
     "metadata": {},
     "output_type": "execute_result"
    }
   ],
   "source": [
    "def perform_operation(*args, op='sum'):\n",
    "    if op == 'sum':\n",
    "        return sum(args)\n",
    "    if op == 'multiply':\n",
    "        return math.prod(args)\n",
    "\n",
    "perform_operation(2, 3)"
   ]
  },
  {
   "cell_type": "code",
   "execution_count": 55,
   "id": "ccad6254-4cc5-40f3-8c5e-456e9b25d747",
   "metadata": {},
   "outputs": [
    {
     "data": {
      "text/plain": [
       "6"
      ]
     },
     "execution_count": 55,
     "metadata": {},
     "output_type": "execute_result"
    }
   ],
   "source": [
    "perform_operation(2, 3, op='multiply')"
   ]
  },
  {
   "cell_type": "code",
   "execution_count": 88,
   "id": "89e3c924-0db7-4d6a-9e4c-0eec2d76dcac",
   "metadata": {},
   "outputs": [
    {
     "ename": "TypeError",
     "evalue": "locals() missing 2 required positional arguments: 'n1' and 'n2'",
     "output_type": "error",
     "traceback": [
      "\u001b[0;31m---------------------------------------------------------------------------\u001b[0m",
      "\u001b[0;31mTypeError\u001b[0m                                 Traceback (most recent call last)",
      "Cell \u001b[0;32mIn[88], line 5\u001b[0m\n\u001b[1;32m      2\u001b[0m \u001b[38;5;28;01mdef\u001b[39;00m \u001b[38;5;21mperform_locals\u001b[39m(num1, num2, op\u001b[38;5;241m=\u001b[39m\u001b[38;5;124m'\u001b[39m\u001b[38;5;124msum\u001b[39m\u001b[38;5;124m'\u001b[39m):\n\u001b[1;32m      3\u001b[0m     \u001b[38;5;28mprint\u001b[39m(\u001b[38;5;28mlocals\u001b[39m())\n\u001b[0;32m----> 5\u001b[0m \u001b[43mperform_locals\u001b[49m\u001b[43m(\u001b[49m\u001b[38;5;241;43m1\u001b[39;49m\u001b[43m,\u001b[49m\u001b[43m \u001b[49m\u001b[38;5;241;43m2\u001b[39;49m\u001b[43m)\u001b[49m\n",
      "Cell \u001b[0;32mIn[88], line 3\u001b[0m, in \u001b[0;36mperform_locals\u001b[0;34m(num1, num2, op)\u001b[0m\n\u001b[1;32m      2\u001b[0m \u001b[38;5;28;01mdef\u001b[39;00m \u001b[38;5;21mperform_locals\u001b[39m(num1, num2, op\u001b[38;5;241m=\u001b[39m\u001b[38;5;124m'\u001b[39m\u001b[38;5;124msum\u001b[39m\u001b[38;5;124m'\u001b[39m):\n\u001b[0;32m----> 3\u001b[0m     \u001b[38;5;28mprint\u001b[39m(\u001b[38;5;28;43mlocals\u001b[39;49m\u001b[43m(\u001b[49m\u001b[43m)\u001b[49m)\n",
      "\u001b[0;31mTypeError\u001b[0m: locals() missing 2 required positional arguments: 'n1' and 'n2'"
     ]
    }
   ],
   "source": [
    "#tested in the shell and works\n",
    "def perform_locals(num1, num2, op='sum'):\n",
    "    print(locals())\n",
    "\n",
    "perform_locals(1, 2)"
   ]
  },
  {
   "cell_type": "code",
   "execution_count": null,
   "id": "7b0e6c61-e9d6-4e9a-834e-d1cd5e719c1d",
   "metadata": {},
   "outputs": [],
   "source": [
    "globals()"
   ]
  },
  {
   "cell_type": "code",
   "execution_count": 85,
   "id": "1e1fdd0f-1f5a-4db1-92e6-d577e772d5a0",
   "metadata": {},
   "outputs": [
    {
     "data": {
      "text/plain": [
       "7"
      ]
     },
     "execution_count": 85,
     "metadata": {},
     "output_type": "execute_result"
    }
   ],
   "source": [
    "#lambda functions\n",
    "(lambda x: x + 3)(4)"
   ]
  },
  {
   "cell_type": "code",
   "execution_count": 87,
   "id": "1b03295e-0c7c-4db0-a72a-8964d26a33bf",
   "metadata": {},
   "outputs": [
    {
     "data": {
      "text/plain": [
       "[{'num': 1}, {'num': 2}, {'num': 3}]"
      ]
     },
     "execution_count": 87,
     "metadata": {},
     "output_type": "execute_result"
    }
   ],
   "source": [
    "my_list = [{'num': 1}, {'num': 2}, {'num':3}]\n",
    "sorted(my_list, key=lambda x: x['num'])"
   ]
  },
  {
   "cell_type": "code",
   "execution_count": 104,
   "id": "e41a261e-c91a-4ffd-8cc4-89ab9955c688",
   "metadata": {},
   "outputs": [],
   "source": [
    "class Dog:\n",
    "    def __init__(self, name):\n",
    "        #instance attributes-every instance will have them\n",
    "        self.name = name\n",
    "        self.legs = 4\n",
    "\n",
    "    def speak(self):\n",
    "        print(self.name + ' says: bark')"
   ]
  },
  {
   "cell_type": "code",
   "execution_count": 105,
   "id": "3ab2bf4b-9838-4b8f-ba82-ff42f57f2dbd",
   "metadata": {},
   "outputs": [
    {
     "name": "stdout",
     "output_type": "stream",
     "text": [
      "Woody\n",
      "4\n"
     ]
    }
   ],
   "source": [
    "dog = Dog('Woody')\n",
    "print(dog.name)\n",
    "print(dog.legs)"
   ]
  },
  {
   "cell_type": "code",
   "execution_count": 107,
   "id": "d358e704-2143-4a38-864e-11402f17e58d",
   "metadata": {},
   "outputs": [
    {
     "ename": "AttributeError",
     "evalue": "type object 'Dog' has no attribute 'legs'",
     "output_type": "error",
     "traceback": [
      "\u001b[0;31m---------------------------------------------------------------------------\u001b[0m",
      "\u001b[0;31mAttributeError\u001b[0m                            Traceback (most recent call last)",
      "Cell \u001b[0;32mIn[107], line 1\u001b[0m\n\u001b[0;32m----> 1\u001b[0m \u001b[43mDog\u001b[49m\u001b[38;5;241;43m.\u001b[39;49m\u001b[43mlegs\u001b[49m\n",
      "\u001b[0;31mAttributeError\u001b[0m: type object 'Dog' has no attribute 'legs'"
     ]
    }
   ],
   "source": [
    "Dog.legs"
   ]
  },
  {
   "cell_type": "code",
   "execution_count": 108,
   "id": "ff0fcd23-dd3a-478e-bc6b-aca3a21e7474",
   "metadata": {},
   "outputs": [],
   "source": [
    "class Dog:\n",
    "    #make legs an inherent attribute to all dogs\n",
    "    #static variable because it doesn't change with each instance\n",
    "    #underscore is added to remind people not to reference the value as it may change, changing may break\n",
    "    _legs = 4\n",
    "    def __init__(self, name):\n",
    "        #instance attributes-every instance will have them\n",
    "        self.name = name\n",
    "\n",
    "    def speak(self):\n",
    "        print(self.name + ' says: bark')"
   ]
  },
  {
   "cell_type": "code",
   "execution_count": 97,
   "id": "0f69fa35-229f-4653-a14d-bb0820eb28cf",
   "metadata": {},
   "outputs": [
    {
     "name": "stdout",
     "output_type": "stream",
     "text": [
      "Woody\n",
      "4\n"
     ]
    }
   ],
   "source": [
    "dog = Dog('Woody')\n",
    "print(dog.name)\n",
    "print(dog.legs)"
   ]
  },
  {
   "cell_type": "code",
   "execution_count": 109,
   "id": "0df81ae9-8ce9-4e90-9517-11b39442ab39",
   "metadata": {},
   "outputs": [
    {
     "data": {
      "text/plain": [
       "4"
      ]
     },
     "execution_count": 109,
     "metadata": {},
     "output_type": "execute_result"
    }
   ],
   "source": [
    "Dog.legs"
   ]
  },
  {
   "cell_type": "code",
   "execution_count": 110,
   "id": "3834b30a-27bf-4934-944b-d764136d5f5d",
   "metadata": {},
   "outputs": [],
   "source": [
    "class Dog:\n",
    "    #make legs an inherent attribute to all dogs\n",
    "    _legs = 4\n",
    "    def __init__(self, name):\n",
    "        #instance attributes-every instance will have them\n",
    "        self.name = name\n",
    "\n",
    "    #getter function for the static variable, start with get\n",
    "    def getLegs(self):\n",
    "        return self._legs\n",
    "\n",
    "    def speak(self):\n",
    "        print(self.name + ' says: bark')"
   ]
  },
  {
   "cell_type": "code",
   "execution_count": 113,
   "id": "5047fcfe-63ae-4dd3-a8ee-ffdf3987f750",
   "metadata": {},
   "outputs": [
    {
     "name": "stdout",
     "output_type": "stream",
     "text": [
      "Woody\n",
      "4\n"
     ]
    }
   ],
   "source": [
    "dog = Dog('Woody')\n",
    "print(dog.name)\n",
    "print(dog.getLegs())"
   ]
  },
  {
   "cell_type": "code",
   "execution_count": 114,
   "id": "04b6caf4-9b42-4ee8-a5ed-85f0a901ac33",
   "metadata": {},
   "outputs": [],
   "source": [
    "class word_set:\n",
    "    def __init__(self):\n",
    "        #words are an empty set now\n",
    "        self.words = set()\n",
    "\n",
    "    def add_text(self, text):\n",
    "        text = self.clean_text(text)\n",
    "        for word in text.split():\n",
    "            self.words.add(word)\n",
    "\n",
    "    def clean_text(self, text):\n",
    "        #chaining functions\n",
    "        text = text.replace('!', '').replace(',','').replace('\\'','').replace('.','')\n",
    "        return text.lower()\n",
    "\n",
    "word_set = word_set()\n",
    "word_set.add_text('Hello, my name is Lenka and I want to add this text!')\n",
    "word_set.add_text('I\\'d also like to add this sentence.')"
   ]
  },
  {
   "cell_type": "code",
   "execution_count": 115,
   "id": "4323be25-9142-4ff8-88ae-9578d6d7908f",
   "metadata": {},
   "outputs": [
    {
     "name": "stdout",
     "output_type": "stream",
     "text": [
      "{'to', 'hello', 'add', 'this', 'lenka', 'text', 'name', 'want', 'and', 'is', 'i', 'also', 'my', 'sentence', 'like', 'id'}\n"
     ]
    }
   ],
   "source": [
    "print(word_set.words)"
   ]
  },
  {
   "cell_type": "code",
   "execution_count": 121,
   "id": "cebd9d0c-9ff5-4f04-bfcf-855eba16b1b0",
   "metadata": {},
   "outputs": [
    {
     "name": "stdout",
     "output_type": "stream",
     "text": [
      "{'to', 'hello', 'add', 'this', 'lenka', 'text', 'name', 'want', 'and', 'is', 'i', 'also', 'my', 'sentence', 'like', 'id'}\n"
     ]
    }
   ],
   "source": [
    "class Word_set:\n",
    "    def __init__(self):\n",
    "        #words are an empty set now\n",
    "        self.words = set()\n",
    "\n",
    "    #instance method\n",
    "    def add_text(self, text):\n",
    "        text = Word_set.clean_text(text)\n",
    "        for word in text.split():\n",
    "            self.words.add(word)\n",
    "            \n",
    "    #static method, no self\n",
    "    def clean_text(text):\n",
    "        #chaining functions\n",
    "        text = text.replace('!', '').replace(',','').replace('\\'','').replace('.','')\n",
    "        return text.lower()\n",
    "\n",
    "word_set = Word_set()\n",
    "word_set.add_text('Hello, my name is Lenka and I want to add this text!')\n",
    "word_set.add_text('I\\'d also like to add this sentence.')\n",
    "print(word_set.words)"
   ]
  },
  {
   "cell_type": "code",
   "execution_count": 122,
   "id": "d9c20710-3854-4162-9d1a-246b8584073c",
   "metadata": {},
   "outputs": [
    {
     "name": "stdout",
     "output_type": "stream",
     "text": [
      "{'to', 'hello', 'add', 'this', 'lenka', 'text', 'name', 'want', 'and', 'is', 'i', 'also', 'my', 'sentence', 'like', 'id'}\n"
     ]
    }
   ],
   "source": [
    "class Word_set:\n",
    "    replace_punct = ['.',',','\\'','!']\n",
    "    def __init__(self):\n",
    "        #words are an empty set now\n",
    "        self.words = set()\n",
    "\n",
    "    #instance method\n",
    "    def add_text(self, text):\n",
    "        text = Word_set.clean_text(text)\n",
    "        for word in text.split():\n",
    "            self.words.add(word)\n",
    "            \n",
    "    #static method, no self\n",
    "    def clean_text(text):\n",
    "        #chaining functions\n",
    "        for punct in Word_set.replace_punct:\n",
    "            text = text.replace(punct, '')\n",
    "        return text.lower()\n",
    "\n",
    "word_set = Word_set()\n",
    "word_set.add_text('Hello, my name is Lenka and I want to add this text!')\n",
    "word_set.add_text('I\\'d also like to add this sentence.')\n",
    "print(word_set.words)"
   ]
  },
  {
   "cell_type": "code",
   "execution_count": 123,
   "id": "66748973-66ac-4220-a7f0-8de4c253a310",
   "metadata": {},
   "outputs": [
    {
     "name": "stdout",
     "output_type": "stream",
     "text": [
      "{'to', 'hello', 'add', 'this', 'lenka', 'text', 'name', 'want', 'and', 'is', 'i', 'also', 'my', 'sentence', 'like', 'id'}\n"
     ]
    }
   ],
   "source": [
    "class Word_set:\n",
    "    replace_punct = ['.',',','\\'','!']\n",
    "    def __init__(self):\n",
    "        #words are an empty set now\n",
    "        self.words = set()\n",
    "\n",
    "    #instance method\n",
    "    def add_text(self, text):\n",
    "        text = self.clean_text(text)\n",
    "        for word in text.split():\n",
    "            self.words.add(word)\n",
    "            \n",
    "    #decorators-tells pythin this is a static method and no self should be passed in\n",
    "    #we can now pass self in the above instance method instead of naming the class\n",
    "    @staticmethod\n",
    "    #static method, no self\n",
    "    def clean_text(text):\n",
    "        #chaining functions\n",
    "        for punct in Word_set.replace_punct:\n",
    "            text = text.replace(punct, '')\n",
    "        return text.lower()\n",
    "\n",
    "word_set = Word_set()\n",
    "word_set.add_text('Hello, my name is Lenka and I want to add this text!')\n",
    "word_set.add_text('I\\'d also like to add this sentence.')\n",
    "print(word_set.words)"
   ]
  },
  {
   "cell_type": "code",
   "execution_count": 124,
   "id": "229b3062-2fbc-471a-b897-8a38d58936b2",
   "metadata": {},
   "outputs": [],
   "source": [
    "class unique_list(list):\n",
    "    def __init__(self):\n",
    "        super().__init__()\n",
    "        self.prop = 'unique property'\n",
    "    \n",
    "    def append(self, items):        \n",
    "        if item in self:\n",
    "            return\n",
    "        ##self.append(item) - will call the above append and we will be in a loop\n",
    "        super().append(item)"
   ]
  },
  {
   "cell_type": "code",
   "execution_count": 127,
   "id": "9fa6a602-36b0-41cd-b6d5-3829ebefd570",
   "metadata": {},
   "outputs": [
    {
     "data": {
      "text/plain": [
       "ZeroDivisionError('division by zero')"
      ]
     },
     "execution_count": 127,
     "metadata": {},
     "output_type": "execute_result"
    }
   ],
   "source": [
    "def causeError():\n",
    "    try:\n",
    "        1/0\n",
    "    except Exception as e:\n",
    "        return e\n",
    "\n",
    "causeError()"
   ]
  },
  {
   "cell_type": "code",
   "execution_count": 129,
   "id": "9fca3d62-f4e7-41b1-8c84-f75b0dd80621",
   "metadata": {},
   "outputs": [
    {
     "name": "stdout",
     "output_type": "stream",
     "text": [
      "there was some sort of error\n",
      "this will always execute\n"
     ]
    }
   ],
   "source": [
    "def causeError():\n",
    "    try:\n",
    "        1/0\n",
    "    except Exception:\n",
    "        print('there was some sort of error')\n",
    "    finally:\n",
    "        print('this will always execute')\n",
    "\n",
    "causeError()"
   ]
  },
  {
   "cell_type": "code",
   "execution_count": 132,
   "id": "3ae42654-35f5-4e11-8b24-b50eccbc8c5d",
   "metadata": {},
   "outputs": [
    {
     "name": "stdout",
     "output_type": "stream",
     "text": [
      "there was some sort of error\n",
      "function took 0.5008759498596191 seconds to execute\n"
     ]
    }
   ],
   "source": [
    "import time\n",
    "def causeError():\n",
    "    start = time.time()\n",
    "    try:\n",
    "        time.sleep(0.5)\n",
    "        1/0\n",
    "    except Exception:\n",
    "        print('there was some sort of error')\n",
    "    finally:\n",
    "        print(f'function took {time.time() - start} seconds to execute')\n",
    "\n",
    "causeError()"
   ]
  },
  {
   "cell_type": "code",
   "execution_count": 157,
   "id": "2a572f1f-6a40-4b75-ab4a-24cade2aad22",
   "metadata": {},
   "outputs": [
    {
     "name": "stdout",
     "output_type": "stream",
     "text": [
      "there was a zero division error\n"
     ]
    }
   ],
   "source": [
    "def causeError():\n",
    "    try:\n",
    "        1/0\n",
    "    except TypeError:\n",
    "        print('there was a type error')\n",
    "    except ZeroDivisionError:\n",
    "        print('there was a zero division error')\n",
    "    except Exception as e:\n",
    "        return e\n",
    "\n",
    "causeError()"
   ]
  },
  {
   "cell_type": "code",
   "execution_count": 158,
   "id": "3267a224-cbd6-4809-876d-405f717c395d",
   "metadata": {},
   "outputs": [
    {
     "name": "stdout",
     "output_type": "stream",
     "text": [
      "there was a zero division error\n"
     ]
    }
   ],
   "source": [
    "def handleException(func):\n",
    "    def wrapper(*args):\n",
    "        try:\n",
    "            func(*args)\n",
    "        except TypeError:\n",
    "            print('there was a type error')\n",
    "        except ZeroDivisionError:\n",
    "            print('there was a zero division error')\n",
    "        except Exception as e:\n",
    "            return e\n",
    "    return wrapper\n",
    "\n",
    "@handleException\n",
    "def causeError():\n",
    "    return 1/0\n",
    "\n",
    "causeError()"
   ]
  },
  {
   "cell_type": "code",
   "execution_count": 159,
   "id": "4e4c79af-66dd-4741-9711-41f977405589",
   "metadata": {},
   "outputs": [
    {
     "data": {
      "text/plain": [
       "Exception()"
      ]
     },
     "execution_count": 159,
     "metadata": {},
     "output_type": "execute_result"
    }
   ],
   "source": [
    "@handleException\n",
    "def raiseError(n):\n",
    "    if n == 0:\n",
    "        raise Exception()\n",
    "    print(n)\n",
    "\n",
    "raiseError(0)"
   ]
  },
  {
   "cell_type": "code",
   "execution_count": 163,
   "id": "4f029d42-6fa6-421b-889e-5de260f3aa49",
   "metadata": {},
   "outputs": [
    {
     "ename": "CustomException",
     "evalue": "you called the cause error function",
     "output_type": "error",
     "traceback": [
      "\u001b[0;31m---------------------------------------------------------------------------\u001b[0m",
      "\u001b[0;31mCustomException\u001b[0m                           Traceback (most recent call last)",
      "Cell \u001b[0;32mIn[163], line 7\u001b[0m\n\u001b[1;32m      4\u001b[0m \u001b[38;5;28;01mdef\u001b[39;00m \u001b[38;5;21mcauseError\u001b[39m():\n\u001b[1;32m      5\u001b[0m     \u001b[38;5;28;01mraise\u001b[39;00m CustomException(\u001b[38;5;124m'\u001b[39m\u001b[38;5;124myou called the cause error function\u001b[39m\u001b[38;5;124m'\u001b[39m)\n\u001b[0;32m----> 7\u001b[0m \u001b[43mcauseError\u001b[49m\u001b[43m(\u001b[49m\u001b[43m)\u001b[49m\n",
      "Cell \u001b[0;32mIn[163], line 5\u001b[0m, in \u001b[0;36mcauseError\u001b[0;34m()\u001b[0m\n\u001b[1;32m      4\u001b[0m \u001b[38;5;28;01mdef\u001b[39;00m \u001b[38;5;21mcauseError\u001b[39m():\n\u001b[0;32m----> 5\u001b[0m     \u001b[38;5;28;01mraise\u001b[39;00m CustomException(\u001b[38;5;124m'\u001b[39m\u001b[38;5;124myou called the cause error function\u001b[39m\u001b[38;5;124m'\u001b[39m)\n",
      "\u001b[0;31mCustomException\u001b[0m: you called the cause error function"
     ]
    }
   ],
   "source": [
    "class CustomException(Exception):\n",
    "    pass\n",
    "\n",
    "def causeError():\n",
    "    raise CustomException('you called the cause error function')\n",
    "\n",
    "causeError()"
   ]
  },
  {
   "cell_type": "code",
   "execution_count": 153,
   "id": "4e98c48a-a19c-4823-a8d3-6b282a4ce7a2",
   "metadata": {},
   "outputs": [
    {
     "ename": "ServerError",
     "evalue": "status code is 500 and message is server messed up.",
     "output_type": "error",
     "traceback": [
      "\u001b[0;31m---------------------------------------------------------------------------\u001b[0m",
      "\u001b[0;31mServerError\u001b[0m                               Traceback (most recent call last)",
      "Cell \u001b[0;32mIn[153], line 18\u001b[0m\n\u001b[1;32m     15\u001b[0m \u001b[38;5;28;01mdef\u001b[39;00m \u001b[38;5;21mraiseServerError\u001b[39m():\n\u001b[1;32m     16\u001b[0m     \u001b[38;5;28;01mraise\u001b[39;00m ServerError()\n\u001b[0;32m---> 18\u001b[0m \u001b[43mraiseServerError\u001b[49m\u001b[43m(\u001b[49m\u001b[43m)\u001b[49m\n",
      "Cell \u001b[0;32mIn[153], line 16\u001b[0m, in \u001b[0;36mraiseServerError\u001b[0;34m()\u001b[0m\n\u001b[1;32m     15\u001b[0m \u001b[38;5;28;01mdef\u001b[39;00m \u001b[38;5;21mraiseServerError\u001b[39m():\n\u001b[0;32m---> 16\u001b[0m     \u001b[38;5;28;01mraise\u001b[39;00m ServerError()\n",
      "\u001b[0;31mServerError\u001b[0m: status code is 500 and message is server messed up."
     ]
    }
   ],
   "source": [
    "class  HttpException(Exception):\n",
    "    statusCode = None\n",
    "    message = None\n",
    "    def __init__(self):\n",
    "        super().__init__(f'status code is {self.statusCode} and message is {self.message}.')\n",
    "\n",
    "class NotFound(HttpException):\n",
    "    statusCode = '404'\n",
    "    message = 'resource not found'\n",
    "\n",
    "class ServerError(HttpException):\n",
    "    statusCode = '500'\n",
    "    message = 'server messed up'\n",
    "\n",
    "def raiseServerError():\n",
    "    raise ServerError()\n",
    "\n",
    "raiseServerError()"
   ]
  },
  {
   "cell_type": "code",
   "execution_count": 160,
   "id": "d3f05e8d-04e8-49f2-b7ee-437e26920b33",
   "metadata": {},
   "outputs": [],
   "source": [
    "def handleException(func):\n",
    "    def wrapper(*args):\n",
    "        try:\n",
    "            func(*args)\n",
    "        except TypeError:\n",
    "            print('there was a type error')\n",
    "        except ZeroDivisionError:\n",
    "            print('there was a zero division error')\n",
    "        except Exception:\n",
    "            print('there was some sort of error')\n",
    "    return wrapper"
   ]
  },
  {
   "cell_type": "code",
   "execution_count": 161,
   "id": "a4427804-f78e-4c10-ba55-10a022671250",
   "metadata": {},
   "outputs": [],
   "source": [
    "@handleException\n",
    "def raiseError(n):\n",
    "    if n == 0:\n",
    "        raise Exception()\n",
    "    print(n)"
   ]
  },
  {
   "cell_type": "code",
   "execution_count": 162,
   "id": "58c966af-46d6-47f9-bb05-684086f72dde",
   "metadata": {},
   "outputs": [
    {
     "name": "stdout",
     "output_type": "stream",
     "text": [
      "there was some sort of error\n"
     ]
    }
   ],
   "source": [
    "raiseError(0)"
   ]
  },
  {
   "cell_type": "code",
   "execution_count": 164,
   "id": "8984cc89-ef4d-4ec6-b6ff-0ca13b0daa47",
   "metadata": {},
   "outputs": [],
   "source": [
    "import threading\n",
    "import time"
   ]
  },
  {
   "cell_type": "code",
   "execution_count": 167,
   "id": "1a995611-742a-43cf-9fd4-e33dd2d693e2",
   "metadata": {},
   "outputs": [
    {
     "data": {
      "text/plain": [
       "[0, 1, 4, 9, 16]"
      ]
     },
     "execution_count": 167,
     "metadata": {},
     "output_type": "execute_result"
    }
   ],
   "source": [
    "def long_square(num):\n",
    "    time.sleep(1)\n",
    "    return num ** 2\n",
    "\n",
    "[long_square(n) for n in range(0,5)]"
   ]
  },
  {
   "cell_type": "code",
   "execution_count": 168,
   "id": "bcff6a5c-bc30-41c8-9d10-a9a32c1882a9",
   "metadata": {},
   "outputs": [],
   "source": [
    "#first argument is the function, second argument is args with the arguments going in\n",
    "t1 = threading.Thread(target=long_square, args=(1,))\n",
    "t2 = threading.Thread(target=long_square, args=(2,))\n",
    "\n",
    "t1.start()\n",
    "t2.start()\n",
    "\n",
    "t1.join()\n",
    "t2.join()\n"
   ]
  },
  {
   "cell_type": "code",
   "execution_count": 169,
   "id": "7e0f4107-d548-49c2-aa6d-f863b3d0ecdf",
   "metadata": {},
   "outputs": [
    {
     "name": "stdout",
     "output_type": "stream",
     "text": [
      "{1: 1, 2: 4}\n"
     ]
    }
   ],
   "source": [
    "results = {}\n",
    "def long_square(num, results):\n",
    "    time.sleep(1)\n",
    "    results[num] = num ** 2\n",
    "\n",
    "results = {}\n",
    "\n",
    "t1 = threading.Thread(target=long_square, args=(1, results))\n",
    "t2 = threading.Thread(target=long_square, args=(2, results))\n",
    "\n",
    "t1.start()\n",
    "t2.start()\n",
    "\n",
    "t1.join()\n",
    "t2.join()\n",
    "\n",
    "print(results)"
   ]
  },
  {
   "cell_type": "code",
   "execution_count": 171,
   "id": "3df84426-a24c-4e20-a779-687da16ad0c1",
   "metadata": {},
   "outputs": [
    {
     "name": "stdout",
     "output_type": "stream",
     "text": [
      "{0: 0, 1: 1, 2: 4, 4: 16, 3: 9, 6: 36, 7: 49, 5: 25, 8: 64, 9: 81, 10: 100, 12: 144, 11: 121, 13: 169, 14: 196, 16: 256, 17: 289, 18: 324, 19: 361, 15: 225, 20: 400, 21: 441, 23: 529, 24: 576, 22: 484, 25: 625, 26: 676, 27: 729, 30: 900, 29: 841, 28: 784, 31: 961, 34: 1156, 33: 1089, 35: 1225, 38: 1444, 39: 1521, 41: 1681, 42: 1764, 32: 1024, 40: 1600, 36: 1296, 47: 2209, 48: 2304, 45: 2025, 49: 2401, 44: 1936, 43: 1849, 46: 2116, 51: 2601, 52: 2704, 50: 2500, 53: 2809, 37: 1369, 54: 2916, 60: 3600, 55: 3025, 57: 3249, 61: 3721, 59: 3481, 58: 3364, 56: 3136, 63: 3969, 64: 4096, 65: 4225, 62: 3844, 69: 4761, 68: 4624, 70: 4900, 72: 5184, 73: 5329, 75: 5625, 76: 5776, 74: 5476, 67: 4489, 85: 7225, 86: 7396, 87: 7569, 66: 4356, 80: 6400, 88: 7744, 81: 6561, 82: 6724, 91: 8281, 92: 8464, 84: 7056, 78: 6084, 89: 7921, 90: 8100, 79: 6241, 83: 6889, 77: 5929, 98: 9604, 94: 8836, 95: 9025, 96: 9216, 99: 9801, 71: 5041, 93: 8649, 97: 9409}\n"
     ]
    }
   ],
   "source": [
    "def long_square(num, results):\n",
    "    time.sleep(1)\n",
    "    results[num] = num ** 2\n",
    "\n",
    "results = {}\n",
    "threads = [threading.Thread(target=long_square, args=(n, results)) for n in range(0, 100)]\n",
    "[t.start() for t in threads]\n",
    "[t.join() for t in threads]\n",
    "print(results)"
   ]
  },
  {
   "cell_type": "code",
   "execution_count": 174,
   "id": "05d3401d-54ab-49b4-ad67-49aca21d9326",
   "metadata": {},
   "outputs": [],
   "source": [
    "from multiprocessing import Process"
   ]
  },
  {
   "cell_type": "code",
   "execution_count": 183,
   "id": "7cf3f6af-6fd6-4303-b29e-c9a427f0746a",
   "metadata": {},
   "outputs": [
    {
     "name": "stdout",
     "output_type": "stream",
     "text": [
      "0\n",
      "finished computing\n",
      "14\n",
      "\n",
      "finished computingfinished computing9\n",
      "16\n",
      "\n",
      "3625finished computing\n",
      "\n",
      "\n",
      "finished computing49finished computing\n",
      "\n",
      "64\n",
      "finished computing\n",
      "81\n",
      "finished computing\n",
      "\n",
      "finished computing\n",
      "\n",
      "finished computing\n",
      "{}\n"
     ]
    }
   ],
   "source": [
    "results = {}\n",
    "def long_square(num, results):\n",
    "    time.sleep(1)\n",
    "    print(num ** 2)\n",
    "    print('finished computing')\n",
    "\n",
    "results = {}\n",
    "processes = [Process(target=long_square, args=(n, results)) for n in range(0, 10)]\n",
    "[p.start() for p in processes]\n",
    "[p.join() for p in processes]\n",
    "print(results)\n"
   ]
  },
  {
   "cell_type": "code",
   "execution_count": 194,
   "id": "abfc856a-d74a-439e-9f8f-5a65c1f97858",
   "metadata": {},
   "outputs": [
    {
     "name": "stdout",
     "output_type": "stream",
     "text": [
      "<_io.TextIOWrapper name='10_01_file.txt' mode='r' encoding='UTF-8'>\n"
     ]
    }
   ],
   "source": [
    "#open file in read mode\n",
    "f = open('10_01_file.txt', 'r')\n",
    "print(f)"
   ]
  },
  {
   "cell_type": "code",
   "execution_count": 195,
   "id": "3d60bb3a-87b8-48dc-afde-815fe7244d82",
   "metadata": {},
   "outputs": [
    {
     "data": {
      "text/plain": [
       "'Beautiful is better than ugly.\\n'"
      ]
     },
     "execution_count": 195,
     "metadata": {},
     "output_type": "execute_result"
    }
   ],
   "source": [
    "f.readline()"
   ]
  },
  {
   "cell_type": "code",
   "execution_count": 196,
   "id": "4f650a77-8796-45f2-ae94-33fde2540883",
   "metadata": {},
   "outputs": [
    {
     "data": {
      "text/plain": [
       "['Explicit is better than implicit.\\n',\n",
       " 'Simple is better than complex.\\n',\n",
       " 'Complex is better than complicated.\\n',\n",
       " 'Flat is better than nested.\\n',\n",
       " 'Sparse is better than dense.\\n',\n",
       " 'Readability counts.\\n',\n",
       " \"Special cases aren't special enough to break the rules.\\n\",\n",
       " 'Although practicality beats purity.\\n',\n",
       " 'Errors should never pass silently.\\n',\n",
       " 'Unless explicitly silenced.\\n',\n",
       " 'In the face of ambiguity, refuse the temptation to guess.\\n',\n",
       " 'There should be one-- and preferably only one --obvious way to do it.\\n',\n",
       " \"Although that way may not be obvious at first unless you're Dutch.\\n\",\n",
       " 'Now is better than never.\\n',\n",
       " 'Although never is often better than *right* now.\\n',\n",
       " \"If the implementation is hard to explain, it's a bad idea.\\n\",\n",
       " 'If the implementation is easy to explain, it may be a good idea.\\n',\n",
       " \"Namespaces are one honking great idea -- let's do more of those!\"]"
      ]
     },
     "execution_count": 196,
     "metadata": {},
     "output_type": "execute_result"
    }
   ],
   "source": [
    "f.readlines()"
   ]
  },
  {
   "cell_type": "code",
   "execution_count": 198,
   "id": "e4d3cc6a-f194-4e38-810e-51fc33294cc8",
   "metadata": {},
   "outputs": [
    {
     "name": "stdout",
     "output_type": "stream",
     "text": [
      "Beautiful is better than ugly.\n",
      "\n",
      "Explicit is better than implicit.\n",
      "\n",
      "Simple is better than complex.\n",
      "\n",
      "Complex is better than complicated.\n",
      "\n",
      "Flat is better than nested.\n",
      "\n",
      "Sparse is better than dense.\n",
      "\n",
      "Readability counts.\n",
      "\n",
      "Special cases aren't special enough to break the rules.\n",
      "\n",
      "Although practicality beats purity.\n",
      "\n",
      "Errors should never pass silently.\n",
      "\n",
      "Unless explicitly silenced.\n",
      "\n",
      "In the face of ambiguity, refuse the temptation to guess.\n",
      "\n",
      "There should be one-- and preferably only one --obvious way to do it.\n",
      "\n",
      "Although that way may not be obvious at first unless you're Dutch.\n",
      "\n",
      "Now is better than never.\n",
      "\n",
      "Although never is often better than *right* now.\n",
      "\n",
      "If the implementation is hard to explain, it's a bad idea.\n",
      "\n",
      "If the implementation is easy to explain, it may be a good idea.\n",
      "\n",
      "Namespaces are one honking great idea -- let's do more of those!\n"
     ]
    }
   ],
   "source": [
    "f = open('10_01_file.txt', 'r')\n",
    "for line in f.readlines():\n",
    "    print(line)"
   ]
  },
  {
   "cell_type": "code",
   "execution_count": 199,
   "id": "3dcad7e2-8132-4b4d-bc77-b48520e91d62",
   "metadata": {},
   "outputs": [
    {
     "name": "stdout",
     "output_type": "stream",
     "text": [
      "Beautiful is better than ugly.\n",
      "Explicit is better than implicit.\n",
      "Simple is better than complex.\n",
      "Complex is better than complicated.\n",
      "Flat is better than nested.\n",
      "Sparse is better than dense.\n",
      "Readability counts.\n",
      "Special cases aren't special enough to break the rules.\n",
      "Although practicality beats purity.\n",
      "Errors should never pass silently.\n",
      "Unless explicitly silenced.\n",
      "In the face of ambiguity, refuse the temptation to guess.\n",
      "There should be one-- and preferably only one --obvious way to do it.\n",
      "Although that way may not be obvious at first unless you're Dutch.\n",
      "Now is better than never.\n",
      "Although never is often better than *right* now.\n",
      "If the implementation is hard to explain, it's a bad idea.\n",
      "If the implementation is easy to explain, it may be a good idea.\n",
      "Namespaces are one honking great idea -- let's do more of those!\n"
     ]
    }
   ],
   "source": [
    "#strip will remove the new line characters\n",
    "f = open('10_01_file.txt', 'r')\n",
    "for line in f.readlines():\n",
    "    print(line.strip())"
   ]
  },
  {
   "cell_type": "code",
   "execution_count": 210,
   "id": "1f002079-d780-498d-bfcf-6b027476a9ed",
   "metadata": {},
   "outputs": [
    {
     "name": "stdout",
     "output_type": "stream",
     "text": [
      "<_io.TextIOWrapper name='output.txt' mode='w' encoding='UTF-8'>\n"
     ]
    }
   ],
   "source": [
    "#writing files\n",
    "f = open('output.txt', 'w')\n",
    "print(f)"
   ]
  },
  {
   "cell_type": "code",
   "execution_count": 211,
   "id": "a39c97f2-2706-4acd-ba10-bed2ce1747c2",
   "metadata": {},
   "outputs": [],
   "source": [
    "#writing into files is expensive and python will write into a buffer until the buffer is full or the file is closed\n",
    "f.write('line 1\\n')\n",
    "f.write('line 2\\n')\n",
    "f.close()"
   ]
  },
  {
   "cell_type": "code",
   "execution_count": 212,
   "id": "387da698-7629-43f8-9faf-1edfc5477558",
   "metadata": {},
   "outputs": [],
   "source": [
    "#to add data to existing file - append mode\n",
    "f = open('output.txt', 'a')\n",
    "f.write('line 3\\n')\n",
    "f.write('line 4\\n')\n",
    "f.close()"
   ]
  },
  {
   "cell_type": "code",
   "execution_count": 213,
   "id": "e51f8b12-63ba-41dc-8307-05b7630201ea",
   "metadata": {},
   "outputs": [],
   "source": [
    "#automatic closing with with\n",
    "with open('output.txt', 'a') as f:\n",
    "    f.write('line 5\\n')\n",
    "    f.write('line 6\\n')"
   ]
  },
  {
   "cell_type": "code",
   "execution_count": null,
   "id": "80bdbfe5-42eb-45ff-9fe8-4f1194fa521e",
   "metadata": {},
   "outputs": [],
   "source": [
    "import csv\n",
    "\n",
    "with open('10_02_us.csv','r') as f:\n",
    "    reader = csv.reader(f, delimiter='\\t')\n",
    "    for row in reader:\n",
    "        print(row)"
   ]
  },
  {
   "cell_type": "code",
   "execution_count": null,
   "id": "281d0853-5232-4c9e-8e4d-9f21fc775d85",
   "metadata": {},
   "outputs": [],
   "source": [
    "#to skip the header row\n",
    "with open('10_02_us.csv','r') as f:\n",
    "    reader = csv.reader(f, delimiter='\\t')\n",
    "    next(reader)\n",
    "    for row in reader:\n",
    "        print(row)"
   ]
  },
  {
   "cell_type": "code",
   "execution_count": null,
   "id": "941cad26-a2af-4832-abed-05db7b2b8ff4",
   "metadata": {},
   "outputs": [],
   "source": [
    "#to use header in each row use dict reader\n",
    "with open('10_02_us.csv','r') as f:\n",
    "    reader = csv.DictReader(f, delimiter='\\t')\n",
    "    for row in reader:\n",
    "        print(row)"
   ]
  },
  {
   "cell_type": "code",
   "execution_count": 249,
   "id": "3ce5b445-755e-4348-b874-2d23da20269e",
   "metadata": {},
   "outputs": [],
   "source": [
    "with open('10_02_us.csv','r') as f:\n",
    "    data = list(csv.DictReader(f, delimiter='\\t'))"
   ]
  },
  {
   "cell_type": "code",
   "execution_count": 250,
   "id": "f8ad77fd-0c9a-4a27-97e9-c1f6a69e9ec3",
   "metadata": {},
   "outputs": [],
   "source": [
    "primes = []\n",
    "for number in range(2,99999):\n",
    "    for factor in range(2,int(number**0.5)):\n",
    "        if number % factor == 0:\n",
    "            break\n",
    "        else:\n",
    "            primes.append(number)"
   ]
  },
  {
   "cell_type": "code",
   "execution_count": null,
   "id": "d1e45bfd-1f1d-424f-97c3-3490dee41622",
   "metadata": {},
   "outputs": [],
   "source": [
    "data = [row for row in data if int(row['postal code']) in primes and row['state code'] == 'MA']\n",
    "len(data)"
   ]
  },
  {
   "cell_type": "code",
   "execution_count": 252,
   "id": "8df69978-a8c9-4691-95fe-6340b47bfdbc",
   "metadata": {},
   "outputs": [
    {
     "data": {
      "text/plain": [
       "{'a': 'apple', 'b': 'bear', 'c': 'cat'}"
      ]
     },
     "execution_count": 252,
     "metadata": {},
     "output_type": "execute_result"
    }
   ],
   "source": [
    "import json\n",
    "\n",
    "json_string = '{\"a\": \"apple\", \"b\": \"bear\", \"c\": \"cat\"}'\n",
    "json.loads(json_string)"
   ]
  },
  {
   "cell_type": "code",
   "execution_count": 253,
   "id": "2c96b672-ad39-4f90-ba5a-84f2f6c20917",
   "metadata": {},
   "outputs": [
    {
     "data": {
      "text/plain": [
       "'{\"a\": \"apple\", \"b\": \"bear\", \"c\": \"cat\"}'"
      ]
     },
     "execution_count": 253,
     "metadata": {},
     "output_type": "execute_result"
    }
   ],
   "source": [
    "#turning dictionary into json\n",
    "python_dict = {'a': 'apple', 'b': 'bear', 'c': 'cat'}\n",
    "json.dumps(python_dict)"
   ]
  },
  {
   "cell_type": "code",
   "execution_count": 256,
   "id": "a97c9f0b-b4c1-434a-bb12-067d25683cab",
   "metadata": {},
   "outputs": [
    {
     "data": {
      "text/plain": [
       "'{\"a\": \"aardwark\", \"b\": \"bear\", \"c\": \"cat\"}'"
      ]
     },
     "execution_count": 256,
     "metadata": {},
     "output_type": "execute_result"
    }
   ],
   "source": [
    "from json import JSONDecodeError, JSONEncoder\n",
    "\n",
    "class AnimalEncoder(JSONEncoder):\n",
    "    # o is object that needs to be passed in to encode json\n",
    "    def default(self, o):\n",
    "        if type(o) == Animal:\n",
    "            return o.name\n",
    "        return super().default(o)\n",
    "\n",
    "class Animal:\n",
    "    def __init__(self, name):\n",
    "        self.name = name\n",
    "\n",
    "python_dict = {'a': Animal('aardwark'), 'b': Animal('bear'), 'c': Animal('cat')}\n",
    "#tell json to use the encoder by passing in the cls argument\n",
    "json.dumps(python_dict, cls=AnimalEncoder)"
   ]
  },
  {
   "cell_type": "code",
   "execution_count": null,
   "id": "99ab150b-d90e-45ff-bb77-513700d64603",
   "metadata": {},
   "outputs": [],
   "source": [
    "from argparse import ArgumentParser\n",
    "\n",
    "parser = ArgumentParser()\n",
    "parser.add_argument('--output', '-o', required=True, help='destination for this program output')\n",
    "parser.add_argument('--text', '-t', required=True, help='the text to be written to the output file')\n",
    "\n",
    "args = parser.pars_args()\n",
    "\n",
    "with open(args.output, 'w') as f:\n",
    "    f.write(args.text+\\n)\n",
    "\n",
    "print(f'Wrote {args.text} to file {args.output}')"
   ]
  }
 ],
 "metadata": {
  "kernelspec": {
   "display_name": "Python 3 (ipykernel)",
   "language": "python",
   "name": "python3"
  },
  "language_info": {
   "codemirror_mode": {
    "name": "ipython",
    "version": 3
   },
   "file_extension": ".py",
   "mimetype": "text/x-python",
   "name": "python",
   "nbconvert_exporter": "python",
   "pygments_lexer": "ipython3",
   "version": "3.10.12"
  }
 },
 "nbformat": 4,
 "nbformat_minor": 5
}
