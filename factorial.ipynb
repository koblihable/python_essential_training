{
 "cells": [
  {
   "cell_type": "markdown",
   "id": "330a054b-33b3-4137-a509-30a00dc52e3b",
   "metadata": {},
   "source": [
    "# Factorial"
   ]
  },
  {
   "cell_type": "code",
   "execution_count": 1,
   "id": "95636d9f-2275-4abc-bd80-7e95fa26f788",
   "metadata": {},
   "outputs": [],
   "source": [
    "class Answer:\n",
    "    def __init__(self, number):\n",
    "        self.number = number\n",
    "\n",
    "    def factorial(self):\n",
    "        return self.number * 2"
   ]
  },
  {
   "cell_type": "code",
   "execution_count": 3,
   "id": "444b2453-72dc-417f-ad61-177d3f23755c",
   "metadata": {},
   "outputs": [
    {
     "name": "stdout",
     "output_type": "stream",
     "text": [
      "10\n"
     ]
    }
   ],
   "source": [
    "number = Answer(5)\n",
    "print(number.factorial())"
   ]
  },
  {
   "cell_type": "code",
   "execution_count": 15,
   "id": "9fc68f93-bbed-4d75-8782-669a84095138",
   "metadata": {},
   "outputs": [],
   "source": [
    "class Answer:\n",
    "    def __init__(self, number):\n",
    "        self.number = number\n",
    "\n",
    "    def factorial(self):\n",
    "        try:\n",
    "            self.number = int(self.number)\n",
    "            print('success')\n",
    "        except ValueError:\n",
    "            print('value is not a number')"
   ]
  },
  {
   "cell_type": "code",
   "execution_count": 16,
   "id": "e15bb63b-ead0-421f-afac-7407fc3247c2",
   "metadata": {
    "scrolled": true
   },
   "outputs": [
    {
     "name": "stdout",
     "output_type": "stream",
     "text": [
      "success\n",
      "None\n"
     ]
    }
   ],
   "source": [
    "number = Answer(5)\n",
    "print(number.factorial())"
   ]
  },
  {
   "cell_type": "code",
   "execution_count": 17,
   "id": "3e6e78e5-61a1-4bf4-ad5c-5eed32ae0b94",
   "metadata": {},
   "outputs": [],
   "source": [
    "class Answer:\n",
    "    def __init__(self, number):\n",
    "        self.number = number\n",
    "\n",
    "    def factorial(self):\n",
    "        try:\n",
    "            self.number = int(self.number)\n",
    "            if self.number >= 0:\n",
    "                print('well done')\n",
    "            else:\n",
    "                print('the numner has to be larger than or equal to 0')\n",
    "        except ValueError:\n",
    "            print('value is not a number')"
   ]
  },
  {
   "cell_type": "code",
   "execution_count": 18,
   "id": "7285138f-b71c-493e-8925-c479f3f5ffa7",
   "metadata": {},
   "outputs": [
    {
     "name": "stdout",
     "output_type": "stream",
     "text": [
      "well done\n",
      "None\n"
     ]
    }
   ],
   "source": [
    "number = Answer(5)\n",
    "print(number.factorial())"
   ]
  },
  {
   "cell_type": "code",
   "execution_count": 19,
   "id": "1596fef9-75fc-4f2b-ae9b-48ef61d15e76",
   "metadata": {},
   "outputs": [
    {
     "name": "stdout",
     "output_type": "stream",
     "text": [
      "the numner has to be larger than or equal to 0\n",
      "None\n"
     ]
    }
   ],
   "source": [
    "number = Answer(-5)\n",
    "print(number.factorial())"
   ]
  },
  {
   "cell_type": "code",
   "execution_count": 34,
   "id": "aebf1d0c-23d4-415d-a710-73ca1c3e44c1",
   "metadata": {},
   "outputs": [],
   "source": [
    "class Answer:\n",
    "    def __init__(self, number):\n",
    "        self.number = number\n",
    "\n",
    "    def factorial(self):\n",
    "        try:\n",
    "            self.number = int(self.number)\n",
    "            if self.number >= 0:\n",
    "                result = self.number\n",
    "                print('initial result')\n",
    "                print(result)\n",
    "                while self.number > 0:\n",
    "                    result = result * self.number\n",
    "                    print('ongoing result')\n",
    "                    print(result)\n",
    "                    self.number = self.number - 1\n",
    "                    print(self.number)\n",
    "                return result\n",
    "                print('final result')\n",
    "                print(result)\n",
    "            else:\n",
    "                print('the numner has to be larger than or equal to 0')\n",
    "        except ValueError:\n",
    "            print('value is not a number')"
   ]
  },
  {
   "cell_type": "code",
   "execution_count": 35,
   "id": "f74f006d-ed34-4686-98dc-dfc07fb973eb",
   "metadata": {},
   "outputs": [
    {
     "name": "stdout",
     "output_type": "stream",
     "text": [
      "initial result\n",
      "5\n",
      "ongoing result\n",
      "25\n",
      "4\n",
      "ongoing result\n",
      "100\n",
      "3\n",
      "ongoing result\n",
      "300\n",
      "2\n",
      "ongoing result\n",
      "600\n",
      "1\n",
      "ongoing result\n",
      "600\n",
      "0\n",
      "600\n"
     ]
    }
   ],
   "source": [
    "number = Answer(5)\n",
    "print(number.factorial())"
   ]
  },
  {
   "cell_type": "code",
   "execution_count": 36,
   "id": "c777d152-ba87-4f0a-820f-462fb40d452a",
   "metadata": {},
   "outputs": [],
   "source": [
    "class Answer:\n",
    "    def __init__(self, number):\n",
    "        self.number = number\n",
    "\n",
    "    def factorial(self):\n",
    "        try:\n",
    "            self.number = int(self.number)\n",
    "            if self.number >= 0:\n",
    "                result = self.number\n",
    "                print('initial result')\n",
    "                print(result)\n",
    "                number = self.number - 1\n",
    "                print('number')\n",
    "                print(number)\n",
    "                while number > 0:\n",
    "                    result = result * number\n",
    "                    print('ongoing result')\n",
    "                    print(result)\n",
    "                    number = number - 1\n",
    "                    print(number)\n",
    "                return result\n",
    "                print('final result')\n",
    "                print(result)\n",
    "            else:\n",
    "                print('the numner has to be larger than or equal to 0')\n",
    "        except ValueError:\n",
    "            print('value is not a number')"
   ]
  },
  {
   "cell_type": "code",
   "execution_count": 38,
   "id": "9fff807c-3212-4d36-82d5-46fdaacd1a11",
   "metadata": {},
   "outputs": [
    {
     "name": "stdout",
     "output_type": "stream",
     "text": [
      "initial result\n",
      "5\n",
      "number\n",
      "4\n",
      "ongoing result\n",
      "20\n",
      "3\n",
      "ongoing result\n",
      "60\n",
      "2\n",
      "ongoing result\n",
      "120\n",
      "1\n",
      "ongoing result\n",
      "120\n",
      "0\n",
      "120\n"
     ]
    }
   ],
   "source": [
    "number = Answer(5)\n",
    "print(number.factorial())"
   ]
  },
  {
   "cell_type": "code",
   "execution_count": 71,
   "id": "463a6704-8774-4a1a-a86c-09628289a5aa",
   "metadata": {},
   "outputs": [],
   "source": [
    "class Answer:\n",
    "    def __init__(self, number):\n",
    "        self.number = number\n",
    "\n",
    "    def factorial(self):\n",
    "        try:\n",
    "            self.number = int(self.number)\n",
    "            if self.number >= 0:\n",
    "                result = self.number\n",
    "                number = self.number - 1\n",
    "                while number > 0:\n",
    "                    result = result * number\n",
    "                    number = number - 1\n",
    "                return result\n",
    "            else:\n",
    "                print('the numner has to be larger than or equal to 0')\n",
    "                return None\n",
    "        except ValueError:\n",
    "            print('value is not a number')"
   ]
  },
  {
   "cell_type": "code",
   "execution_count": 74,
   "id": "e64cd82d-1ac1-4ed5-865c-625af8066c7b",
   "metadata": {},
   "outputs": [
    {
     "name": "stdout",
     "output_type": "stream",
     "text": [
      "120\n"
     ]
    }
   ],
   "source": [
    "number = Answer(5)\n",
    "result = number.factorial()\n",
    "print(result)"
   ]
  },
  {
   "cell_type": "code",
   "execution_count": 80,
   "id": "0e3d60be-fb2d-4302-b51d-39a0054806f0",
   "metadata": {},
   "outputs": [],
   "source": [
    "def factorial(number):\n",
    "    if type(number) != int:\n",
    "        return None\n",
    "    if number < 0:\n",
    "        return None\n",
    "    if number == 0:\n",
    "        return 1\n",
    "    return number * factorial(number - 1)"
   ]
  },
  {
   "cell_type": "code",
   "execution_count": 81,
   "id": "1c5f2900-54f9-4cb6-8bc7-24a30b4fe336",
   "metadata": {},
   "outputs": [
    {
     "name": "stdout",
     "output_type": "stream",
     "text": [
      "120\n"
     ]
    }
   ],
   "source": [
    "number = 5\n",
    "print(factorial(number))"
   ]
  },
  {
   "cell_type": "code",
   "execution_count": null,
   "id": "4ef6d434-0cb9-44ef-a8dc-561393aba3bf",
   "metadata": {},
   "outputs": [],
   "source": []
  }
 ],
 "metadata": {
  "kernelspec": {
   "display_name": "Python 3 (ipykernel)",
   "language": "python",
   "name": "python3"
  },
  "language_info": {
   "codemirror_mode": {
    "name": "ipython",
    "version": 3
   },
   "file_extension": ".py",
   "mimetype": "text/x-python",
   "name": "python",
   "nbconvert_exporter": "python",
   "pygments_lexer": "ipython3",
   "version": "3.10.12"
  }
 },
 "nbformat": 4,
 "nbformat_minor": 5
}
